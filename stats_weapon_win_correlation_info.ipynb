{
 "cells": [
  {
   "cell_type": "markdown",
   "source": [
    "# Win/weapon correlation info\n",
    "\n",
    "Correlation between main primary weapon used and victory in round.\n",
    "\n",
    "## Example correlation coefficient values\n",
    "- correlation coefficient 0.06 of Deagles_x1 over 100 rounds where it was tagged could mean that\n",
    "    - 53 were won by that team\n",
    "    - 47 were lost\n",
    "- correlation coefficient -0.04 of Deagles_x1 over 100 rounds:\n",
    "    - 48 were won by that team\n",
    "    - 52 were lost\n",
    "- correlation coefficient 0.00 of Deagles_x1 over 100 rounds:\n",
    "    - 50 were won by that team\n",
    "    - 50 were lost\n",
    "\n",
    "## How is it calculated\n",
    "- each round's kill log is checked\n",
    "- if one player used a weapon for more than 50% of his primary-weapon-kills then tag for that team is created, eg `SteyrAUG_x1`\n",
    "- if there are two players in the team using mainly the same primary weapon in that round, that \"team-round\" will be tagged with `SteyrAUG_x2` instead of two `SteyrAUG_x1`\n",
    "- win or lose tag is added for each \"team-round\"\n",
    "- entries are roughly like this for each round:\n",
    "    - \"game 123123, round 0, team Red, tags: SteyrAug_x2, Deagles_x1, win\"\n",
    "    - \"game 123123, round 0, team Blue, tags: M79_x1, MP5_x1, lose\"\n",
    "- rounds that ended with Tie are ignored altogether\n",
    "- data is filtered to only include balanced games from correct playlist (see \"Parameters\" section)\n",
    "- finally correlation is calculated between win tag and all other tags using [Pearson correlation coefficient](https://en.wikipedia.org/wiki/Pearson_correlation_coefficient)"
   ],
   "metadata": {
    "collapsed": false
   }
  }
 ],
 "metadata": {
  "kernelspec": {
   "display_name": "Python 3",
   "language": "python",
   "name": "python3"
  },
  "language_info": {
   "codemirror_mode": {
    "name": "ipython",
    "version": 2
   },
   "file_extension": ".py",
   "mimetype": "text/x-python",
   "name": "python",
   "nbconvert_exporter": "python",
   "pygments_lexer": "ipython2",
   "version": "2.7.6"
  }
 },
 "nbformat": 4,
 "nbformat_minor": 0
}
