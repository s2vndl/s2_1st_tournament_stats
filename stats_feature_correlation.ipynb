{
 "cells": [
  {
   "cell_type": "markdown",
   "id": "185984c2",
   "metadata": {
    "collapsed": false,
    "papermill": {
     "duration": 0.001559,
     "end_time": "2023-01-18T13:38:13.492640",
     "exception": false,
     "start_time": "2023-01-18T13:38:13.491081",
     "status": "completed"
    },
    "tags": []
   },
   "source": [
    "# Feature correlation\n",
    "\n",
    "Correlation between main weapon used and various \"features\" of the round on different maps"
   ]
  },
  {
   "cell_type": "code",
   "execution_count": null,
   "id": "231f7538",
   "metadata": {
    "collapsed": false,
    "execution": {
     "iopub.execute_input": "2023-01-18T13:38:13.495910Z",
     "iopub.status.busy": "2023-01-18T13:38:13.495664Z",
     "iopub.status.idle": "2023-01-18T13:38:15.311447Z",
     "shell.execute_reply": "2023-01-18T13:38:15.310887Z"
    },
    "papermill": {
     "duration": 1.819083,
     "end_time": "2023-01-18T13:38:15.312834",
     "exception": false,
     "start_time": "2023-01-18T13:38:13.493751",
     "status": "completed"
    },
    "tags": [],
    "pycharm": {
     "is_executing": true
    }
   },
   "outputs": [],
   "source": [
    "# import seaborn as sns\n",
    "#\n",
    "# from s2_analytics.collector.object_collector import GameObjectCollector\n",
    "# from s2_analytics.constants import WEAPONS_PRIMARY, WEAPONS_SECONDARY, WEAPON_MODS_DATES\n",
    "# from s2_analytics.importer import JsonGameReader\n",
    "# from s2_analytics.main_weapon_analyzer import MainWeaponRoundTagger\n",
    "# from s2_analytics.team_round_tag_correlation_analyzer import TeamRoundTagCorrelationAnalyzer\n",
    "#\n",
    "# tag_correlation_analyzer = TeamRoundTagCorrelationAnalyzer([MainWeaponRoundTagger([WEAPONS_PRIMARY, WEAPONS_SECONDARY])])\n",
    "# game_collector = GameObjectCollector()\n",
    "# processors = [tag_correlation_analyzer, game_collector]\n",
    "# JsonGameReader(processors, game_filter=lambda game: game.match_quality >= 0.5).read_games(\"logs_ranked/\", start_date=WEAPON_MODS_DATES[0])\n",
    "# pass"
   ]
  },
  {
   "cell_type": "markdown",
   "id": "d11e0d64",
   "metadata": {
    "collapsed": false,
    "papermill": {
     "duration": 0.001662,
     "end_time": "2023-01-18T13:38:15.316458",
     "exception": false,
     "start_time": "2023-01-18T13:38:15.314796",
     "status": "completed"
    },
    "tags": []
   },
   "source": [
    "## Data summary"
   ]
  },
  {
   "cell_type": "code",
   "execution_count": null,
   "id": "a315efa9",
   "metadata": {
    "collapsed": false,
    "execution": {
     "iopub.execute_input": "2023-01-18T13:38:15.331550Z",
     "iopub.status.busy": "2023-01-18T13:38:15.331421Z",
     "iopub.status.idle": "2023-01-18T13:38:15.335107Z",
     "shell.execute_reply": "2023-01-18T13:38:15.334863Z"
    },
    "papermill": {
     "duration": 0.006221,
     "end_time": "2023-01-18T13:38:15.335851",
     "exception": false,
     "start_time": "2023-01-18T13:38:15.329630",
     "status": "completed"
    },
    "tags": [],
    "pycharm": {
     "is_executing": true
    }
   },
   "outputs": [],
   "source": [
    "# todo"
   ]
  },
  {
   "cell_type": "markdown",
   "id": "0678ef43",
   "metadata": {
    "collapsed": false,
    "papermill": {
     "duration": 0.001413,
     "end_time": "2023-01-18T13:38:15.338733",
     "exception": false,
     "start_time": "2023-01-18T13:38:15.337320",
     "status": "completed"
    },
    "tags": []
   },
   "source": [
    "## Feature correlation"
   ]
  },
  {
   "cell_type": "code",
   "execution_count": null,
   "id": "82b7463d",
   "metadata": {
    "collapsed": false,
    "execution": {
     "iopub.execute_input": "2023-01-18T13:38:15.342400Z",
     "iopub.status.busy": "2023-01-18T13:38:15.342073Z",
     "iopub.status.idle": "2023-01-18T13:38:15.605907Z",
     "shell.execute_reply": "2023-01-18T13:38:15.605471Z"
    },
    "papermill": {
     "duration": 0.267335,
     "end_time": "2023-01-18T13:38:15.607532",
     "exception": false,
     "start_time": "2023-01-18T13:38:15.340197",
     "status": "completed"
    },
    "tags": [],
    "pycharm": {
     "is_executing": true
    }
   },
   "outputs": [],
   "source": [
    "# keys = []\n",
    "# values = []\n",
    "# correlation = tag_correlation_analyzer.calculate_win_correlation()\n",
    "# for key, value in sorted(correlation.items(), key=lambda a: a[1], reverse=True):\n",
    "#     keys.append(key)\n",
    "#     values.append(value)\n",
    "#\n",
    "# sns.set(rc={'figure.figsize': (10, 8)})\n",
    "# sns.barplot(x=values, y=keys)\n",
    "# pass"
   ]
  }
 ],
 "metadata": {
  "kernelspec": {
   "display_name": "Python 3",
   "language": "python",
   "name": "python3"
  },
  "language_info": {
   "codemirror_mode": {
    "name": "ipython",
    "version": 3
   },
   "file_extension": ".py",
   "mimetype": "text/x-python",
   "name": "python",
   "nbconvert_exporter": "python",
   "pygments_lexer": "ipython3",
   "version": "3.10.7"
  },
  "papermill": {
   "default_parameters": {},
   "duration": 3.642763,
   "end_time": "2023-01-18T13:38:16.428904",
   "environment_variables": {},
   "exception": null,
   "input_path": "stats_weapon_usage_trends_v2.ipynb",
   "output_path": "stats_weapon_usage_trends_v2.ipynb",
   "parameters": {},
   "start_time": "2023-01-18T13:38:12.786141",
   "version": "2.4.0"
  }
 },
 "nbformat": 4,
 "nbformat_minor": 5
}
