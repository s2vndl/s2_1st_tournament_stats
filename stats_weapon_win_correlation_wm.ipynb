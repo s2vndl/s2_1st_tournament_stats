{
 "cells": [
  {
   "cell_type": "markdown",
   "source": [
    "# Weapon/win corr in current WM (20th Mar '23)"
   ],
   "metadata": {
    "collapsed": false
   }
  },
  {
   "cell_type": "markdown",
   "source": [
    "## Parameters"
   ],
   "metadata": {
    "collapsed": false
   }
  },
  {
   "cell_type": "code",
   "execution_count": null,
   "outputs": [
    {
     "name": "stdout",
     "output_type": "stream",
     "text": [
      "Start date: 2023-03-20 00:00:00\n",
      "Playlists: CTF-Standard-6\n",
      "\n",
      "Min samples: 20\n",
      "Max match imbalance: 20% \n",
      "    (eg worst balance: Red team win probability 40.0% and 60.0% for Blue)\n"
     ]
    }
   ],
   "source": [
    "from s2_analytics.constants import WEAPON_MODS_CATALOG\n",
    "CHART_MAX_WIDTH = 10\n",
    "CHART_HEIGHT_PER_ENTRY = 0.3\n",
    "\n",
    "MINIMUM_SAMPLES = 20\n",
    "MAX_IMBALANCE = 0.20\n",
    "ACTIVE_WM = WEAPON_MODS_CATALOG.latest()\n",
    "START_DATE = ACTIVE_WM.datetime\n",
    "PLAYLISTS = [\"CTF-Standard-6\"]\n",
    "\n",
    "print(f\"Start date: {START_DATE}\")\n",
    "print(f\"Playlists: {','.join(PLAYLISTS)}\")\n",
    "print()\n",
    "print(f\"Min samples: {MINIMUM_SAMPLES}\")\n",
    "print(f\"Max match imbalance: {MAX_IMBALANCE * 100:.0f}% \\n\"\n",
    "      f\"    (eg worst balance: Red team win probability {(50 - MAX_IMBALANCE * 100 / 2):.1f}% and {(50 + MAX_IMBALANCE * 100 / 2):.1f}% for Blue)\")\n"
   ],
   "metadata": {
    "collapsed": false
   }
  },
  {
   "cell_type": "code",
   "execution_count": null,
   "outputs": [],
   "source": [
    "from s2_analytics.collect.summary_collector import SummaryCollector\n",
    "from s2_analytics.collect.team_round_tag_collector import TeamRoundTagCorrelationAnalyzer\n",
    "from pandas import DataFrame\n",
    "\n",
    "from s2_analytics.filters import max_imbalance\n",
    "import sqlite3\n",
    "\n",
    "import pandas as pd\n",
    "import seaborn as sns\n",
    "\n",
    "from s2_analytics.collect.sqlite_collector import SqliteCollector\n",
    "from s2_analytics.constants import WEAPONS_PRIMARY\n",
    "from s2_analytics.importer import import_games\n",
    "from s2_analytics.analyze.main_weapon_analyzer import MainWeaponRoundTagger\n",
    "\n",
    "conn = sqlite3.connect(\"file::memory:\")\n",
    "sqlite_collector = SqliteCollector(sqlite_conn=conn).init()\n",
    "summary_collector = SummaryCollector(conn, sqlite_collector)\n",
    "tag_correlation_analyzer = TeamRoundTagCorrelationAnalyzer(conn, sqlite_collector, [\n",
    "    MainWeaponRoundTagger([WEAPONS_PRIMARY])]).init()\n",
    "import_games(\n",
    "    \"logs_ranked/\",\n",
    "    start_date=START_DATE,\n",
    "    processors=[tag_correlation_analyzer, sqlite_collector],\n",
    "    game_filters=[\n",
    "        lambda g: g.playlist_code in [\"CTF-Standard-6\"],\n",
    "        max_imbalance(MAX_IMBALANCE)\n",
    "    ]\n",
    ")\n",
    "pass"
   ],
   "metadata": {
    "collapsed": false
   }
  },
  {
   "cell_type": "markdown",
   "id": "d11e0d64",
   "metadata": {
    "collapsed": false,
    "papermill": {
     "duration": 0.001662,
     "end_time": "2023-01-18T13:38:15.316458",
     "exception": false,
     "start_time": "2023-01-18T13:38:15.314796",
     "status": "completed"
    },
    "tags": []
   },
   "source": [
    "## Data summary"
   ]
  },
  {
   "cell_type": "code",
   "execution_count": null,
   "id": "a315efa9",
   "metadata": {
    "collapsed": false,
    "execution": {
     "iopub.execute_input": "2023-01-18T13:38:15.331550Z",
     "iopub.status.busy": "2023-01-18T13:38:15.331421Z",
     "iopub.status.idle": "2023-01-18T13:38:15.335107Z",
     "shell.execute_reply": "2023-01-18T13:38:15.334863Z"
    },
    "papermill": {
     "duration": 0.006221,
     "end_time": "2023-01-18T13:38:15.335851",
     "exception": false,
     "start_time": "2023-01-18T13:38:15.329630",
     "status": "completed"
    },
    "tags": []
   },
   "outputs": [
    {
     "ename": "TypeError",
     "evalue": "unsupported operand type(s) for /: 'NoneType' and 'int'",
     "output_type": "error",
     "traceback": [
      "\u001B[0;31m---------------------------------------------------------------------------\u001B[0m",
      "\u001B[0;31mTypeError\u001B[0m                                 Traceback (most recent call last)",
      "Cell \u001B[0;32mIn[3], line 3\u001B[0m\n\u001B[1;32m      1\u001B[0m \u001B[38;5;28;01mimport\u001B[39;00m \u001B[38;5;21;01mtabulate\u001B[39;00m\n\u001B[0;32m----> 3\u001B[0m summary \u001B[38;5;241m=\u001B[39m \u001B[43msummary_collector\u001B[49m\u001B[38;5;241;43m.\u001B[39;49m\u001B[43mget_summary\u001B[49m\u001B[43m(\u001B[49m\u001B[43m)\u001B[49m\u001B[38;5;241m.\u001B[39mto_table()\n\u001B[1;32m      4\u001B[0m tabulate\u001B[38;5;241m.\u001B[39mtabulate(summary, tablefmt\u001B[38;5;241m=\u001B[39m\u001B[38;5;124m'\u001B[39m\u001B[38;5;124mhtml\u001B[39m\u001B[38;5;124m'\u001B[39m)\n",
      "File \u001B[0;32m~/Projects/bb/s2/repo_s2_stats/s2_analytics/collect/summary_collector.py:56\u001B[0m, in \u001B[0;36mSummaryCollector.get_summary\u001B[0;34m(self)\u001B[0m\n\u001B[1;32m     52\u001B[0m \u001B[38;5;28;01mfor\u001B[39;00m game_mode, count \u001B[38;5;129;01min\u001B[39;00m result:\n\u001B[1;32m     53\u001B[0m     game_mode_count[game_mode] \u001B[38;5;241m=\u001B[39m count\n\u001B[1;32m     55\u001B[0m \u001B[38;5;28;01mreturn\u001B[39;00m Summary(\n\u001B[0;32m---> 56\u001B[0m     first_game_starttime\u001B[38;5;241m=\u001B[39mdatetime\u001B[38;5;241m.\u001B[39mdatetime\u001B[38;5;241m.\u001B[39mutcfromtimestamp(\u001B[43mfirst_game_time\u001B[49m\u001B[43m \u001B[49m\u001B[38;5;241;43m/\u001B[39;49m\u001B[43m \u001B[49m\u001B[38;5;241;43m1000\u001B[39;49m),\n\u001B[1;32m     57\u001B[0m     last_game_starttime\u001B[38;5;241m=\u001B[39mdatetime\u001B[38;5;241m.\u001B[39mdatetime\u001B[38;5;241m.\u001B[39mutcfromtimestamp(last_game_time \u001B[38;5;241m/\u001B[39m \u001B[38;5;241m1000\u001B[39m),\n\u001B[1;32m     58\u001B[0m     total_games\u001B[38;5;241m=\u001B[39mgame_count,\n\u001B[1;32m     59\u001B[0m     total_rounds\u001B[38;5;241m=\u001B[39mround_count,\n\u001B[1;32m     60\u001B[0m     games_by_playlist\u001B[38;5;241m=\u001B[39mgame_mode_count\n\u001B[1;32m     61\u001B[0m )\n",
      "\u001B[0;31mTypeError\u001B[0m: unsupported operand type(s) for /: 'NoneType' and 'int'"
     ]
    }
   ],
   "source": [
    "import tabulate\n",
    "\n",
    "summary = summary_collector.get_summary().to_table()\n",
    "tabulate.tabulate(summary, tablefmt='html')"
   ]
  },
  {
   "cell_type": "markdown",
   "id": "0678ef43",
   "metadata": {
    "collapsed": false,
    "papermill": {
     "duration": 0.001413,
     "end_time": "2023-01-18T13:38:15.338733",
     "exception": false,
     "start_time": "2023-01-18T13:38:15.337320",
     "status": "completed"
    },
    "tags": []
   },
   "source": [
    "## Aggregated result"
   ]
  },
  {
   "cell_type": "code",
   "execution_count": null,
   "id": "82b7463d",
   "metadata": {
    "collapsed": false,
    "execution": {
     "iopub.execute_input": "2023-01-18T13:38:15.342400Z",
     "iopub.status.busy": "2023-01-18T13:38:15.342073Z",
     "iopub.status.idle": "2023-01-18T13:38:15.605907Z",
     "shell.execute_reply": "2023-01-18T13:38:15.605471Z"
    },
    "papermill": {
     "duration": 0.267335,
     "end_time": "2023-01-18T13:38:15.607532",
     "exception": false,
     "start_time": "2023-01-18T13:38:15.340197",
     "status": "completed"
    },
    "tags": []
   },
   "outputs": [],
   "source": [
    "from matplotlib import pyplot as plt\n",
    "\n",
    "correlation_per_map = tag_correlation_analyzer.calculate_win_correlation()\n",
    "\n",
    "correlation_df = pd.DataFrame(correlation_per_map.items(), columns=[\"tag\", \"corr\"])\n",
    "counts_df = pd.DataFrame(\n",
    "    tag_correlation_analyzer.tag_counts().items(),\n",
    "    columns=[\"tag\", \"cnt\"])\n",
    "\n",
    "df = pd.merge(correlation_df, counts_df, on=[\"tag\"])\n",
    "\n",
    "\n",
    "def filter_and_sort_for_corr_charts(df: DataFrame, min_samples):\n",
    "    df[\"corr_abs\"] = df['corr'].abs()\n",
    "    df = df[df.apply(lambda x: x[\"cnt\"] > min_samples, axis=1)]\n",
    "    return df.sort_values(\"corr_abs\", ascending=False) \\\n",
    "        .sort_values(\"corr\", ascending=False)\n",
    "\n",
    "\n",
    "df = filter_and_sort_for_corr_charts(df, MINIMUM_SAMPLES)\n",
    "\n",
    "fig, axes = plt.subplots(1, 2, figsize=(CHART_MAX_WIDTH, len(df[\"corr\"]) * CHART_HEIGHT_PER_ENTRY), sharey=True)\n",
    "fig.suptitle(f\"Weapon-Victory correlation - {ACTIVE_WM}\", fontsize=14)\n",
    "sns.barplot(x=df[\"corr\"], y=df[\"tag\"], ax=axes[0]) \\\n",
    "    .set(xlabel=\"Round victory correlation coefficient\", ylabel=None)\n",
    "sns.barplot(x=df[\"cnt\"], y=df[\"tag\"], ax=axes[1]) \\\n",
    "    .set(xlabel=\"Count of entries\", ylabel=None)\n",
    "\n",
    "pass"
   ]
  },
  {
   "cell_type": "markdown",
   "source": [],
   "metadata": {
    "collapsed": false
   }
  },
  {
   "cell_type": "code",
   "execution_count": null,
   "outputs": [],
   "source": [
    "## Each map separately\n",
    "# from math import ceil\n",
    "#\n",
    "# correlation_per_map = tag_correlation_analyzer.calculate_win_correlation_per_map()\n",
    "# counts_per_map = tag_correlation_analyzer.tag_counts_per_map(NO_RESULT_TAG_FILTER)\n",
    "#\n",
    "#\n",
    "# def correlation_for_map(correlations: DataFrame, counts: DataFrame):\n",
    "#     df = pd.merge(\n",
    "#         on=[\"tag\"],\n",
    "#         left=pd.DataFrame(correlations.items(), columns=[\"tag\", \"corr\"]),\n",
    "#         right=pd.DataFrame(counts.items(), columns=[\"tag\", \"cnt\"]))\n",
    "#     return df\n",
    "#\n",
    "#\n",
    "# max_corr = 0\n",
    "# min_corr = 0\n",
    "# total_entries = 0\n",
    "# charts = []\n",
    "# not_enough_data = []\n",
    "# for map in sorted(list(counts_per_map.keys())):\n",
    "#     correlations = correlation_per_map[map]\n",
    "#     counts = counts_per_map[map]\n",
    "#     df1 = pd.merge(on=[\"tag\"],\n",
    "#                    left=pd.DataFrame(correlations.items(), columns=[\"tag\", \"corr\"]),\n",
    "#                    right=pd.DataFrame(counts.items(), columns=[\"tag\", \"cnt\"]))\n",
    "#     df = df1\n",
    "#     df = filter_and_sort_for_corr_charts(df, min_samples=(MINIMUM_SAMPLES), limit=5)\n",
    "#     entries_count = len(df[\"corr\"])\n",
    "#     total_entries += entries_count\n",
    "#     if entries_count > 0:\n",
    "#         charts.append((map, df))\n",
    "#         df_max = df[\"corr\"].max()\n",
    "#         if df_max > max_corr:\n",
    "#             max_corr = df_max\n",
    "#         df_min = df[\"corr\"].min()\n",
    "#         if df_min < min_corr:\n",
    "#             min_corr = df_min\n",
    "#     else:\n",
    "#         not_enough_data.append(map)\n",
    "#\n",
    "# nrows = ceil(len(charts) / 2)\n",
    "# fig, axes = plt.subplots(nrows, 2, figsize=(CHART_MAX_WIDTH, total_entries / len(charts) * nrows * 0.6),\n",
    "#                          tight_layout=True)\n",
    "# axes = axes.flatten()\n",
    "# print(f\"Not enough samples for {len(not_enough_data)} maps\")\n",
    "#\n",
    "# for i, chart_data in enumerate(charts):\n",
    "#     map, df = chart_data\n",
    "#     axes[i].set(xlabel=None, ylabel=None)\n",
    "#     axes[i].set(xlim=(min_corr, max_corr))\n",
    "#     sns.barplot(x=df[\"corr\"], y=df[\"tag\"], ax=axes[i]) \\\n",
    "#         .set(title=map, xlabel=None, ylabel=None)\n",
    "\n",
    "# pass"
   ],
   "metadata": {
    "collapsed": false
   }
  },
  {
   "cell_type": "code",
   "execution_count": null,
   "outputs": [],
   "source": [],
   "metadata": {
    "collapsed": false
   }
  }
 ],
 "metadata": {
  "kernelspec": {
   "display_name": "Python 3",
   "language": "python",
   "name": "python3"
  },
  "language_info": {
   "codemirror_mode": {
    "name": "ipython",
    "version": 3
   },
   "file_extension": ".py",
   "mimetype": "text/x-python",
   "name": "python",
   "nbconvert_exporter": "python",
   "pygments_lexer": "ipython3",
   "version": "3.10.7"
  },
  "papermill": {
   "default_parameters": {},
   "duration": 3.642763,
   "end_time": "2023-01-18T13:38:16.428904",
   "environment_variables": {},
   "exception": null,
   "input_path": "stats_weapon_usage_trends_v2.ipynb",
   "output_path": "stats_weapon_usage_trends_v2.ipynb",
   "parameters": {},
   "start_time": "2023-01-18T13:38:12.786141",
   "version": "2.4.0"
  }
 },
 "nbformat": 4,
 "nbformat_minor": 5
}
