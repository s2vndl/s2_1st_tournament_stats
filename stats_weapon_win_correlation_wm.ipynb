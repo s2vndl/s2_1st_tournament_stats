{
 "cells": [
  {
   "cell_type": "markdown",
   "source": [
    "# Win/weapon: WM 2023-03-20"
   ],
   "metadata": {
    "collapsed": false
   }
  },
  {
   "cell_type": "markdown",
   "source": [
    "## Parameters"
   ],
   "metadata": {
    "collapsed": false
   }
  },
  {
   "cell_type": "code",
   "execution_count": 30,
   "outputs": [
    {
     "name": "stdout",
     "output_type": "stream",
     "text": [
      "Start date: 2023-03-20 00:00:00\n",
      "Playlists: CTF-Standard-6\n",
      "\n",
      "Min samples: 20\n",
      "Max match imbalance: 20% \n",
      "    (eg worst balance: Red team win probability 40.0% and 60.0% for Blue)\n"
     ]
    }
   ],
   "source": [
    "from s2_analytics.constants import WEAPON_MODS_CATALOG\n",
    "ACTIVE_WM = WEAPON_MODS_CATALOG.latest()\n",
    "\n",
    "CHART_MAX_WIDTH = 10\n",
    "CHART_HEIGHT_PER_ENTRY = 0.3\n",
    "\n",
    "MINIMUM_SAMPLES = 20\n",
    "MAX_IMBALANCE = 0.20\n",
    "START_DATE = ACTIVE_WM.datetime\n",
    "PLAYLISTS = [\"CTF-Standard-6\"]\n",
    "\n",
    "print(f\"Start date: {START_DATE}\")\n",
    "print(f\"Playlists: {','.join(PLAYLISTS)}\")\n",
    "print()\n",
    "print(f\"Min samples: {MINIMUM_SAMPLES}\")\n",
    "print(f\"Max match imbalance: {MAX_IMBALANCE * 100:.0f}% \\n\"\n",
    "      f\"    (eg worst balance: Red team win probability {(50 - MAX_IMBALANCE * 100 / 2):.1f}% and {(50 + MAX_IMBALANCE * 100 / 2):.1f}% for Blue)\")\n"
   ],
   "metadata": {
    "collapsed": false
   }
  },
  {
   "cell_type": "code",
   "execution_count": 31,
   "outputs": [],
   "source": [
    "from s2_analytics.collect.summary_collector import SummaryCollector\n",
    "from s2_analytics.collect.team_round_tag_collector import TeamRoundTagCorrelationAnalyzer\n",
    "from pandas import DataFrame\n",
    "\n",
    "from s2_analytics.filters import max_imbalance\n",
    "import sqlite3\n",
    "\n",
    "import pandas as pd\n",
    "import seaborn as sns\n",
    "\n",
    "from s2_analytics.collect.sqlite_collector import SqliteCollector\n",
    "from s2_analytics.constants import WEAPONS_PRIMARY\n",
    "from s2_analytics.importer import import_games\n",
    "from s2_analytics.analyze.main_weapon_analyzer import MainWeaponRoundTagger\n",
    "\n",
    "conn = sqlite3.connect(\"file::memory:\")\n",
    "sqlite_collector = SqliteCollector(sqlite_conn=conn).init()\n",
    "summary_collector = SummaryCollector(conn, sqlite_collector)\n",
    "tag_correlation_analyzer = TeamRoundTagCorrelationAnalyzer(conn, sqlite_collector, [\n",
    "    MainWeaponRoundTagger([WEAPONS_PRIMARY])]).init()\n",
    "import_games(\n",
    "    \"logs_ranked/\",\n",
    "    start_date=START_DATE,\n",
    "    processors=[tag_correlation_analyzer, sqlite_collector],\n",
    "    game_filters=[\n",
    "        lambda g: g.playlist_code in [\"CTF-Standard-6\"],\n",
    "        max_imbalance(MAX_IMBALANCE)\n",
    "    ]\n",
    ")\n",
    "pass"
   ],
   "metadata": {
    "collapsed": false
   }
  },
  {
   "cell_type": "markdown",
   "id": "d11e0d64",
   "metadata": {
    "collapsed": false,
    "papermill": {
     "duration": 0.001662,
     "end_time": "2023-01-18T13:38:15.316458",
     "exception": false,
     "start_time": "2023-01-18T13:38:15.314796",
     "status": "completed"
    },
    "tags": []
   },
   "source": [
    "## Data summary"
   ]
  },
  {
   "cell_type": "code",
   "execution_count": 32,
   "id": "a315efa9",
   "metadata": {
    "collapsed": false,
    "execution": {
     "iopub.execute_input": "2023-01-18T13:38:15.331550Z",
     "iopub.status.busy": "2023-01-18T13:38:15.331421Z",
     "iopub.status.idle": "2023-01-18T13:38:15.335107Z",
     "shell.execute_reply": "2023-01-18T13:38:15.334863Z"
    },
    "papermill": {
     "duration": 0.006221,
     "end_time": "2023-01-18T13:38:15.335851",
     "exception": false,
     "start_time": "2023-01-18T13:38:15.329630",
     "status": "completed"
    },
    "tags": []
   },
   "outputs": [
    {
     "data": {
      "text/plain": "'<table>\\n<tbody>\\n<tr><td>First game                        </td><td>2023-03-20</td></tr>\\n<tr><td>Last game                         </td><td>2023-03-20</td></tr>\\n<tr><td>Games total                       </td><td>5         </td></tr>\\n<tr><td>Rounds total                      </td><td>12        </td></tr>\\n<tr><td>Games in playlist `CTF-Standard-6`</td><td>5         </td></tr>\\n</tbody>\\n</table>'",
      "text/html": "<table>\n<tbody>\n<tr><td>First game                        </td><td>2023-03-20</td></tr>\n<tr><td>Last game                         </td><td>2023-03-20</td></tr>\n<tr><td>Games total                       </td><td>5         </td></tr>\n<tr><td>Rounds total                      </td><td>12        </td></tr>\n<tr><td>Games in playlist `CTF-Standard-6`</td><td>5         </td></tr>\n</tbody>\n</table>"
     },
     "execution_count": 32,
     "metadata": {},
     "output_type": "execute_result"
    }
   ],
   "source": [
    "import tabulate\n",
    "\n",
    "summary = summary_collector.get_summary().to_table()\n",
    "tabulate.tabulate(summary, tablefmt='html')"
   ]
  },
  {
   "cell_type": "markdown",
   "id": "0678ef43",
   "metadata": {
    "collapsed": false,
    "papermill": {
     "duration": 0.001413,
     "end_time": "2023-01-18T13:38:15.338733",
     "exception": false,
     "start_time": "2023-01-18T13:38:15.337320",
     "status": "completed"
    },
    "tags": []
   },
   "source": [
    "## Aggregated result"
   ]
  },
  {
   "cell_type": "code",
   "execution_count": 33,
   "id": "82b7463d",
   "metadata": {
    "collapsed": false,
    "execution": {
     "iopub.execute_input": "2023-01-18T13:38:15.342400Z",
     "iopub.status.busy": "2023-01-18T13:38:15.342073Z",
     "iopub.status.idle": "2023-01-18T13:38:15.605907Z",
     "shell.execute_reply": "2023-01-18T13:38:15.605471Z"
    },
    "papermill": {
     "duration": 0.267335,
     "end_time": "2023-01-18T13:38:15.607532",
     "exception": false,
     "start_time": "2023-01-18T13:38:15.340197",
     "status": "completed"
    },
    "tags": []
   },
   "outputs": [
    {
     "name": "stdout",
     "output_type": "stream",
     "text": [
      "not enough samples :(\n"
     ]
    }
   ],
   "source": [
    "from matplotlib import pyplot as plt\n",
    "\n",
    "correlation_per_map = tag_correlation_analyzer.calculate_win_correlation()\n",
    "\n",
    "correlation_df = pd.DataFrame(correlation_per_map.items(), columns=[\"tag\", \"corr\"])\n",
    "counts_df = pd.DataFrame(\n",
    "    tag_correlation_analyzer.tag_counts().items(),\n",
    "    columns=[\"tag\", \"cnt\"])\n",
    "\n",
    "df = pd.merge(correlation_df, counts_df, on=[\"tag\"])\n",
    "\n",
    "\n",
    "def filter_and_sort_for_corr_charts(df: DataFrame, min_samples):\n",
    "    df[\"corr_abs\"] = df['corr'].abs()\n",
    "    df = df[df.apply(lambda x: x[\"cnt\"] > min_samples, axis=1)]\n",
    "    return df.sort_values(\"corr_abs\", ascending=False) \\\n",
    "        .sort_values(\"corr\", ascending=False)\n",
    "\n",
    "\n",
    "df = filter_and_sort_for_corr_charts(df, MINIMUM_SAMPLES)\n",
    "if df.size == 0:\n",
    "    print(\"not enough samples :(\")\n",
    "else :\n",
    "    fig, axes = plt.subplots(1, 2, figsize=(CHART_MAX_WIDTH, len(df[\"corr\"]) * CHART_HEIGHT_PER_ENTRY), sharey=True)\n",
    "    fig.suptitle(f\"Weapon-Victory correlation - {ACTIVE_WM}\", fontsize=14)\n",
    "    sns.barplot(x=df[\"corr\"], y=df[\"tag\"], ax=axes[0]) \\\n",
    "        .set(xlabel=\"Round victory correlation coefficient\", ylabel=None)\n",
    "    sns.barplot(x=df[\"cnt\"], y=df[\"tag\"], ax=axes[1]) \\\n",
    "        .set(xlabel=\"Count of entries\", ylabel=None)\n",
    "\n",
    "pass"
   ]
  },
  {
   "cell_type": "markdown",
   "source": [],
   "metadata": {
    "collapsed": false
   }
  },
  {
   "cell_type": "markdown",
   "source": [
    "## WeaponMod changes"
   ],
   "metadata": {
    "collapsed": false
   }
  },
  {
   "cell_type": "code",
   "execution_count": 34,
   "outputs": [],
   "source": [
    "print(ACTIVE_WM.changes)"
   ],
   "metadata": {
    "collapsed": false
   }
  }
 ],
 "metadata": {
  "kernelspec": {
   "display_name": "Python 3",
   "language": "python",
   "name": "python3"
  },
  "language_info": {
   "codemirror_mode": {
    "name": "ipython",
    "version": 3
   },
   "file_extension": ".py",
   "mimetype": "text/x-python",
   "name": "python",
   "nbconvert_exporter": "python",
   "pygments_lexer": "ipython3",
   "version": "3.10.7"
  },
  "papermill": {
   "default_parameters": {},
   "duration": 3.642763,
   "end_time": "2023-01-18T13:38:16.428904",
   "environment_variables": {},
   "exception": null,
   "input_path": "stats_weapon_usage_trends_v2.ipynb",
   "output_path": "stats_weapon_usage_trends_v2.ipynb",
   "parameters": {},
   "start_time": "2023-01-18T13:38:12.786141",
   "version": "2.4.0"
  }
 },
 "nbformat": 4,
 "nbformat_minor": 5
}
