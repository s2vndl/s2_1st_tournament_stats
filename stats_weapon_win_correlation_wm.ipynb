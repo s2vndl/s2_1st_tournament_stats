{
 "cells": [
  {
   "cell_type": "markdown",
   "id": "185984c2",
   "metadata": {
    "collapsed": false,
    "papermill": {
     "duration": 0.001559,
     "end_time": "2023-01-18T13:38:13.492640",
     "exception": false,
     "start_time": "2023-01-18T13:38:13.491081",
     "status": "completed"
    },
    "tags": []
   },
   "source": [
    "# Weapon/win corr last WM\n",
    "\n",
    "Correlation between main primary weapon used and victory in round.\n",
    "\n",
    "## Example correlation coefficient values\n",
    "- correlation coefficient 0.06 of Deagles_x1 over 100 rounds where it was tagged could mean that\n",
    "    - 53 were won by that team\n",
    "    - 47 were lost\n",
    "- correlation coefficient -0.04 of Deagles_x1 over 100 rounds:\n",
    "    - 48 were won by that team\n",
    "    - 52 were lost\n",
    "- correlation coefficient 0.00 of Deagles_x1 over 100 rounds:\n",
    "    - 50 were won by that team\n",
    "    - 50 were lost\n",
    "\n",
    "## How is it calculated\n",
    "- each round's kill log is checked\n",
    "- if one player used a weapon for more than 50% of his primary-weapon-kills then tag for that team is created, eg `SteyrAUG_x1`\n",
    "- if there are two players in the team using mainly the same primary weapon in that round, that \"team-round\" will be tagged with `SteyrAUG_x2` instead of two `SteyrAUG_x1`\n",
    "- win or lose tag is added for each \"team-round\"\n",
    "- entries are roughly like this for each round:\n",
    "    - \"game 123123, round 0, team Red, tags: SteyrAug_x2, Deagles_x1, win\"\n",
    "    - \"game 123123, round 0, team Blue, tags: M79_x1, MP5_x1, lose\"\n",
    "- rounds that ended with Tie are ignored altogether\n",
    "- data is filtered to only include balanced games from correct playlist (see \"Parameters\" section)\n",
    "- finally correlation is calculated between win tag and all other tags using [Pearson correlation coefficient](https://en.wikipedia.org/wiki/Pearson_correlation_coefficient)\n"
   ]
  },
  {
   "cell_type": "markdown",
   "source": [
    "## Parameters"
   ],
   "metadata": {
    "collapsed": false
   }
  },
  {
   "cell_type": "code",
   "execution_count": 3,
   "outputs": [
    {
     "name": "stdout",
     "output_type": "stream",
     "text": [
      "Start date: 2022-12-28 00:00:00\n",
      "Playlists: CTF-Standard-6\n",
      "\n",
      "Min samples: 30\n",
      "Max match imbalance: 20% \n",
      "    (eg worst balance: Red team win probability 40.0% and 60.0% for Blue)\n"
     ]
    }
   ],
   "source": [
    "from s2_analytics.constants import WEAPON_MODS_DATES\n",
    "\n",
    "CHART_MAX_WIDTH = 10\n",
    "CHART_HEIGHT_PER_ENTRY = 0.3\n",
    "\n",
    "MINIMUM_SAMPLES = 30\n",
    "MAX_IMBALANCE = 0.20\n",
    "START_DATE = WEAPON_MODS_DATES[0]\n",
    "PLAYLISTS = [\"CTF-Standard-6\"]\n",
    "\n",
    "print(f\"Start date: {START_DATE}\")\n",
    "print(f\"Playlists: {','.join(PLAYLISTS)}\")\n",
    "print()\n",
    "print(f\"Min samples: {MINIMUM_SAMPLES}\")\n",
    "print(f\"Max match imbalance: {MAX_IMBALANCE * 100:.0f}% \\n\"\n",
    "      f\"    (eg worst balance: Red team win probability {(50 - MAX_IMBALANCE * 100/2):.1f}% and {(50 + MAX_IMBALANCE * 100/2):.1f}% for Blue)\")\n"
   ],
   "metadata": {
    "collapsed": false
   }
  },
  {
   "cell_type": "code",
   "execution_count": null,
   "outputs": [],
   "source": [
    "from pandas import DataFrame\n",
    "\n",
    "from s2_analytics.filters import max_imbalance\n",
    "import sqlite3\n",
    "\n",
    "import pandas as pd\n",
    "import seaborn as sns\n",
    "\n",
    "from s2_analytics.collector.sqlite_collector import SqliteCollector\n",
    "from s2_analytics.constants import WEAPONS_PRIMARY\n",
    "from s2_analytics.importer import import_games\n",
    "from s2_analytics.main_weapon_analyzer import MainWeaponRoundTagger\n",
    "from s2_analytics.team_round_tag_correlation_analyzer import TeamRoundTagCorrelationAnalyzer\n",
    "from s2_analytics.test_summary_collector import SummaryCollector\n",
    "\n",
    "conn = sqlite3.connect(\"file::memory:\")\n",
    "sqlite_collector = SqliteCollector(sqlite_conn=conn).init()\n",
    "summary_collector = SummaryCollector(conn, sqlite_collector)\n",
    "tag_correlation_analyzer = TeamRoundTagCorrelationAnalyzer(conn, sqlite_collector, [\n",
    "    MainWeaponRoundTagger([WEAPONS_PRIMARY])]).init()\n",
    "import_games(\n",
    "    \"logs_ranked/\",\n",
    "    start_date=START_DATE,\n",
    "    processors=[tag_correlation_analyzer, sqlite_collector],\n",
    "    game_filters=[\n",
    "        lambda g: g.playlist_code in [\"CTF-Standard-6\"],\n",
    "        max_imbalance(MAX_IMBALANCE)\n",
    "    ]\n",
    ")\n",
    "pass"
   ],
   "metadata": {
    "collapsed": false,
    "pycharm": {
     "is_executing": true
    }
   }
  },
  {
   "cell_type": "markdown",
   "id": "d11e0d64",
   "metadata": {
    "collapsed": false,
    "papermill": {
     "duration": 0.001662,
     "end_time": "2023-01-18T13:38:15.316458",
     "exception": false,
     "start_time": "2023-01-18T13:38:15.314796",
     "status": "completed"
    },
    "tags": []
   },
   "source": [
    "## Data summary"
   ]
  },
  {
   "cell_type": "code",
   "execution_count": null,
   "id": "a315efa9",
   "metadata": {
    "collapsed": false,
    "execution": {
     "iopub.execute_input": "2023-01-18T13:38:15.331550Z",
     "iopub.status.busy": "2023-01-18T13:38:15.331421Z",
     "iopub.status.idle": "2023-01-18T13:38:15.335107Z",
     "shell.execute_reply": "2023-01-18T13:38:15.334863Z"
    },
    "papermill": {
     "duration": 0.006221,
     "end_time": "2023-01-18T13:38:15.335851",
     "exception": false,
     "start_time": "2023-01-18T13:38:15.329630",
     "status": "completed"
    },
    "tags": [],
    "pycharm": {
     "is_executing": true
    }
   },
   "outputs": [],
   "source": [
    "import tabulate\n",
    "\n",
    "summary = summary_collector.get_summary().to_table()\n",
    "tabulate.tabulate(summary, tablefmt='html')"
   ]
  },
  {
   "cell_type": "markdown",
   "id": "0678ef43",
   "metadata": {
    "collapsed": false,
    "papermill": {
     "duration": 0.001413,
     "end_time": "2023-01-18T13:38:15.338733",
     "exception": false,
     "start_time": "2023-01-18T13:38:15.337320",
     "status": "completed"
    },
    "tags": []
   },
   "source": [
    "## Aggregated result"
   ]
  },
  {
   "cell_type": "code",
   "execution_count": null,
   "id": "82b7463d",
   "metadata": {
    "collapsed": false,
    "execution": {
     "iopub.execute_input": "2023-01-18T13:38:15.342400Z",
     "iopub.status.busy": "2023-01-18T13:38:15.342073Z",
     "iopub.status.idle": "2023-01-18T13:38:15.605907Z",
     "shell.execute_reply": "2023-01-18T13:38:15.605471Z"
    },
    "papermill": {
     "duration": 0.267335,
     "end_time": "2023-01-18T13:38:15.607532",
     "exception": false,
     "start_time": "2023-01-18T13:38:15.340197",
     "status": "completed"
    },
    "tags": [],
    "pycharm": {
     "is_executing": true
    }
   },
   "outputs": [],
   "source": [
    "from matplotlib import pyplot as plt\n",
    "from s2_analytics.test_main_weapon_analyzer import NO_RESULT_TAG_FILTER\n",
    "\n",
    "correlation_per_map = tag_correlation_analyzer.calculate_win_correlation()\n",
    "\n",
    "correlation_df = pd.DataFrame(correlation_per_map.items(), columns=[\"tag\", \"corr\"])\n",
    "counts_df = pd.DataFrame(\n",
    "    tag_correlation_analyzer.tag_counts(NO_RESULT_TAG_FILTER).items(),\n",
    "    columns=[\"tag\", \"cnt\"])\n",
    "\n",
    "df = pd.merge(correlation_df, counts_df, on=[\"tag\"])\n",
    "\n",
    "\n",
    "def filter_and_sort_for_corr_charts(df: DataFrame, min_samples, limit):\n",
    "    df[\"corr_abs\"] = df['corr'].abs()\n",
    "    df = df[df.apply(lambda x: x[\"cnt\"] > min_samples, axis=1)]\n",
    "    return df.sort_values(\"corr_abs\", ascending=False) \\\n",
    "        .head(n=limit) \\\n",
    "        .sort_values(\"corr\", ascending=False)\n",
    "\n",
    "\n",
    "df = filter_and_sort_for_corr_charts(df, MINIMUM_SAMPLES, 9999)\n",
    "\n",
    "fig, axes = plt.subplots(1, 2, figsize=(CHART_MAX_WIDTH, len(df[\"corr\"]) * CHART_HEIGHT_PER_ENTRY), sharey=True)\n",
    "sns.barplot(x=df[\"corr\"], y=df[\"tag\"], ax=axes[0]) \\\n",
    "    .set(xlabel=\"Round victory correlation coefficient\", ylabel=\"Main weapon tags\")\n",
    "sns.barplot(x=df[\"cnt\"], y=df[\"tag\"], ax=axes[1]) \\\n",
    "    .set(xlabel=\"Count of entries\", ylabel=\"Main weapon tags\")\n",
    "pass"
   ]
  },
  {
   "cell_type": "markdown",
   "source": [],
   "metadata": {
    "collapsed": false
   }
  },
  {
   "cell_type": "code",
   "execution_count": null,
   "outputs": [],
   "source": [
    "## Each map separately\n",
    "# from math import ceil\n",
    "#\n",
    "# correlation_per_map = tag_correlation_analyzer.calculate_win_correlation_per_map()\n",
    "# counts_per_map = tag_correlation_analyzer.tag_counts_per_map(NO_RESULT_TAG_FILTER)\n",
    "#\n",
    "#\n",
    "# def correlation_for_map(correlations: DataFrame, counts: DataFrame):\n",
    "#     df = pd.merge(\n",
    "#         on=[\"tag\"],\n",
    "#         left=pd.DataFrame(correlations.items(), columns=[\"tag\", \"corr\"]),\n",
    "#         right=pd.DataFrame(counts.items(), columns=[\"tag\", \"cnt\"]))\n",
    "#     return df\n",
    "#\n",
    "#\n",
    "# max_corr = 0\n",
    "# min_corr = 0\n",
    "# total_entries = 0\n",
    "# charts = []\n",
    "# not_enough_data = []\n",
    "# for map in sorted(list(counts_per_map.keys())):\n",
    "#     correlations = correlation_per_map[map]\n",
    "#     counts = counts_per_map[map]\n",
    "#     df1 = pd.merge(on=[\"tag\"],\n",
    "#                    left=pd.DataFrame(correlations.items(), columns=[\"tag\", \"corr\"]),\n",
    "#                    right=pd.DataFrame(counts.items(), columns=[\"tag\", \"cnt\"]))\n",
    "#     df = df1\n",
    "#     df = filter_and_sort_for_corr_charts(df, min_samples=(MINIMUM_SAMPLES), limit=5)\n",
    "#     entries_count = len(df[\"corr\"])\n",
    "#     total_entries += entries_count\n",
    "#     if entries_count > 0:\n",
    "#         charts.append((map, df))\n",
    "#         df_max = df[\"corr\"].max()\n",
    "#         if df_max > max_corr:\n",
    "#             max_corr = df_max\n",
    "#         df_min = df[\"corr\"].min()\n",
    "#         if df_min < min_corr:\n",
    "#             min_corr = df_min\n",
    "#     else:\n",
    "#         not_enough_data.append(map)\n",
    "#\n",
    "# nrows = ceil(len(charts) / 2)\n",
    "# fig, axes = plt.subplots(nrows, 2, figsize=(CHART_MAX_WIDTH, total_entries / len(charts) * nrows * 0.6),\n",
    "#                          tight_layout=True)\n",
    "# axes = axes.flatten()\n",
    "# print(f\"Not enough samples for {len(not_enough_data)} maps\")\n",
    "#\n",
    "# for i, chart_data in enumerate(charts):\n",
    "#     map, df = chart_data\n",
    "#     axes[i].set(xlabel=None, ylabel=None)\n",
    "#     axes[i].set(xlim=(min_corr, max_corr))\n",
    "#     sns.barplot(x=df[\"corr\"], y=df[\"tag\"], ax=axes[i]) \\\n",
    "#         .set(title=map, xlabel=None, ylabel=None)\n",
    "\n",
    "# pass"
   ],
   "metadata": {
    "collapsed": false,
    "pycharm": {
     "is_executing": true
    }
   }
  }
 ],
 "metadata": {
  "kernelspec": {
   "display_name": "Python 3",
   "language": "python",
   "name": "python3"
  },
  "language_info": {
   "codemirror_mode": {
    "name": "ipython",
    "version": 3
   },
   "file_extension": ".py",
   "mimetype": "text/x-python",
   "name": "python",
   "nbconvert_exporter": "python",
   "pygments_lexer": "ipython3",
   "version": "3.10.7"
  },
  "papermill": {
   "default_parameters": {},
   "duration": 3.642763,
   "end_time": "2023-01-18T13:38:16.428904",
   "environment_variables": {},
   "exception": null,
   "input_path": "stats_weapon_usage_trends_v2.ipynb",
   "output_path": "stats_weapon_usage_trends_v2.ipynb",
   "parameters": {},
   "start_time": "2023-01-18T13:38:12.786141",
   "version": "2.4.0"
  }
 },
 "nbformat": 4,
 "nbformat_minor": 5
}
