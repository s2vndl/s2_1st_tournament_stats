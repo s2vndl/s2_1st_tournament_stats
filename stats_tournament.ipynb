{
 "cells": [
  {
   "cell_type": "code",
   "execution_count": 1,
   "id": "ede30091",
   "metadata": {
    "collapsed": true,
    "execution": {
     "iopub.execute_input": "2023-01-16T20:24:26.877226Z",
     "iopub.status.busy": "2023-01-16T20:24:26.877037Z",
     "iopub.status.idle": "2023-01-16T20:24:27.253953Z",
     "shell.execute_reply": "2023-01-16T20:24:27.253619Z"
    },
    "papermill": {
     "duration": 0.382398,
     "end_time": "2023-01-16T20:24:27.255090",
     "exception": false,
     "start_time": "2023-01-16T20:24:26.872692",
     "status": "completed"
    },
    "tags": []
   },
   "outputs": [],
   "source": [
    "import os\n",
    "import json\n",
    "import pandas as pd\n",
    "\n",
    "import seaborn as sns\n",
    "\n",
    "from os import listdir\n",
    "from os.path import isfile, join, exists\n",
    "\n",
    "TMP_DB_SQL = \"/tmp/s2_tournament.sql\"\n",
    "\n",
    "logs_dir = \"logs_tournament/\"\n",
    "logs = [f for f in listdir(logs_dir) if isfile(join(logs_dir, f))]\n",
    "games = []\n",
    "for log in logs:\n",
    "    with open(logs_dir + \"/\" + log, \"r\") as f:\n",
    "        games.append(json.load(f))\n",
    "\n",
    "import sqlite3\n",
    "if exists(TMP_DB_SQL):\n",
    "    os.remove(TMP_DB_SQL)\n",
    "con = sqlite3.connect(TMP_DB_SQL)\n",
    "cur = con.cursor()\n",
    "cur.execute('CREATE TABLE player (\"id\", \"name\", \"tier\", \"team\");')\n",
    "cur.execute('CREATE TABLE game (\"id\", \"redRoundWins\", \"blueRoundWins\", \"winner\")')\n",
    "cur.execute('CREATE TABLE round (\"game\", \"round\", \"mapName\", \"startTime\", \"endTime\", \"blueCaps\", \"redCaps\", \"result\");')\n",
    "cur.execute('CREATE TABLE event_kill (\"game\", \"round\", \"timestamp\", \"killerPlayfabId\", \"killerTeam\", \"victimPlayfabId\", \"victimTeam\", \"weaponName\");')\n",
    "cur.execute('CREATE TABLE event_cap (\"game\", \"round\", \"mapName\", \"timestamp\", \"cappingTeam\", \"playfabId\", \"millisSinceStart\");')\n",
    "\n",
    "\n",
    "kills = []\n",
    "for game in games:\n",
    "    cur.execute('insert into game values (:startTime, :redRoundWins, :blueRoundWins, :winner)', game)\n",
    "    for round_no, round in enumerate(game[\"rounds\"]):\n",
    "        row = round\n",
    "        row[\"round\"] = round_no\n",
    "        row[\"game\"] = game[\"startTime\"]\n",
    "        caps_diff = round[\"redCaps\"] - round[\"blueCaps\"]\n",
    "        row[\"result\"] = \"tie\" if caps_diff == 0 else (\"redWins\" if caps_diff > 0 else \"blueWins\")\n",
    "        cur.execute('insert into round values (:game, :round, :mapName, :startTime, :endTime, :blueCaps, :redCaps, :result)', row)\n",
    "        for event in round[\"events\"]:\n",
    "            row = dict(event)\n",
    "            del row[\"type\"]\n",
    "            if event[\"type\"] == \"PLAYER_KILL\":\n",
    "                row[\"game\"] = game[\"startTime\"]\n",
    "                row[\"round\"] = round_no\n",
    "                cur.execute(\n",
    "                    'insert into event_kill values (:game, :round, :timestamp, :killerPlayfabId, :killerTeam, :victimPlayfabId, :victimTeam, :weaponName)',\n",
    "                    row)\n",
    "            elif event[\"type\"] == \"FLAG_CAP\":\n",
    "                row[\"game\"] = game[\"startTime\"]\n",
    "                row[\"mapName\"] = round[\"mapName\"]\n",
    "                row[\"round\"] = round_no\n",
    "                row[\"millisSinceStart\"] = event[\"timestamp\"] - round[\"startTime\"]\n",
    "                cur.execute(\n",
    "                    'insert into event_cap values (:game, :round, :mapName, :timestamp, :cappingTeam, :playfabId, :millisSinceStart)',\n",
    "                    row)\n",
    "con.commit()"
   ]
  },
  {
   "cell_type": "code",
   "execution_count": 2,
   "id": "74a526e6",
   "metadata": {
    "collapsed": false,
    "execution": {
     "iopub.execute_input": "2023-01-16T20:24:27.264409Z",
     "iopub.status.busy": "2023-01-16T20:24:27.264219Z",
     "iopub.status.idle": "2023-01-16T20:24:27.269298Z",
     "shell.execute_reply": "2023-01-16T20:24:27.269037Z"
    },
    "papermill": {
     "duration": 0.011121,
     "end_time": "2023-01-16T20:24:27.270501",
     "exception": false,
     "start_time": "2023-01-16T20:24:27.259380",
     "status": "completed"
    },
    "tags": []
   },
   "outputs": [],
   "source": [
    "players = [\n",
    "    [\"9EDB977D8849AD0C\", \"papu\", 18, \"WeAreTeam7\"],\n",
    "    [\"EBA9074566BEA3E7\", \"proto\", 16, \"BaseHot\"],\n",
    "    [\"EDB92702EC149828\", \"nino\", 17, \"Maroon5\"],\n",
    "    [\"C19637F2290726EB\", \"haste\", 13, \"DotDotDot\"],\n",
    "    [\"6446A9422BE1BD7D\", \"dD\", 13, \"NoMoreOverheat\"],\n",
    "    [\"82FC63DE46014718\", \"YnGwi3\", 13, \"2Tilted\"],\n",
    "    [\"D35B7050036AAD3\", \"fri\", 13, \"Mortals\"],\n",
    "    [\"C42975C9A8E4E66B\", \"Psycho\", 11, \"DotDotDot\"],\n",
    "    [\"517348F5DF244DE5\", \"Anna\", 11, \"Maroon5\"],\n",
    "    [\"9AB6234BDDCE14D9\", \"dbfseventsd\", 11, \"Mortals\"],\n",
    "    [\"9DD00BA9F5AA7525\", \"Norbo11\", 10, \"2Tilted\"],\n",
    "    [\"47167D5CB3751A2C\", \"challz\", 9, \"NoMoreOverheat\"],\n",
    "    [\"CF4B8D60F1735398\", \"thyro\", 8, \"WeAreTeam7\"],\n",
    "    [\"D482320672E27418\", \"Jok\", 8, \"BaseHot\"],\n",
    "    [\"784CD6C79930CC43\", \"evhO\", 7, \"BaseHot\"],\n",
    "    [\"6AF4A5EF7DB4F012\", \"kahukerr\", 1, \"Mortals\"],\n",
    "    [\"85D4CB1D1C2A72CD\", \"xQ:Le1T0r\", 7, \"WeAreTeam7\"],\n",
    "    [\"B83C6CC780CDF96C\", \"SigHunter\", 6, \"2Tilted\"],\n",
    "    [\"F029E4BFE212BE18\", \"Morgoth\", 5, \"Maroon5\"],\n",
    "    [\"298FD01685544F0\", \"danyukhin\", 0, \"DotDotDot\"],\n",
    "    [\"DEEA9A62468B4158\", \"kevin16king\", 0, \"NoMoreOverheat\"],\n",
    "]\n",
    "cur.executemany(\"insert into player values(?,?,?,?)\", players)\n",
    "cur.connection.commit()"
   ]
  },
  {
   "cell_type": "code",
   "execution_count": 3,
   "id": "f4c71ac2",
   "metadata": {
    "collapsed": false,
    "execution": {
     "iopub.execute_input": "2023-01-16T20:24:27.279756Z",
     "iopub.status.busy": "2023-01-16T20:24:27.279623Z",
     "iopub.status.idle": "2023-01-16T20:24:27.285230Z",
     "shell.execute_reply": "2023-01-16T20:24:27.284982Z"
    },
    "papermill": {
     "duration": 0.011317,
     "end_time": "2023-01-16T20:24:27.286277",
     "exception": false,
     "start_time": "2023-01-16T20:24:27.274960",
     "status": "completed"
    },
    "tags": []
   },
   "outputs": [],
   "source": [
    "cur.execute('CREATE TABLE tier (\"id\", \"name\");')\n",
    "players = [\n",
    "    [0, \"UNRANKED\"],\n",
    "    [1, \"BRONZE_I\"],\n",
    "    [2, \"BRONZE_II\"],\n",
    "    [3, \"BRONZE_III\"],\n",
    "    [4, \"SILVER_I\"],\n",
    "    [5, \"SILVER_II\"],\n",
    "    [6, \"SILVER_III\"],\n",
    "    [7, \"GOLD_I\"],\n",
    "    [8, \"GOLD_II\"],\n",
    "    [9, \"GOLD_III\"],\n",
    "    [10, \"PLATINUM_I\"],\n",
    "    [11, \"PLATINUM_II\"],\n",
    "    [12, \"PLATINUM_III\"],\n",
    "    [13, \"DIAMOND_I\"],\n",
    "    [14, \"DIAMOND_II\"],\n",
    "    [15, \"DIAMOND_III\"],\n",
    "    [16, \"CHAMPION_I\"],\n",
    "    [17, \"CHAMPION_II\"],\n",
    "    [18, \"CHAMPION_III\"],\n",
    "]\n",
    "cur.executemany(\"insert into tier values(?,?)\", players)\n",
    "cur.connection.commit()"
   ]
  },
  {
   "cell_type": "markdown",
   "id": "ba942576",
   "metadata": {
    "collapsed": false,
    "papermill": {
     "duration": 0.004207,
     "end_time": "2023-01-16T20:24:27.294675",
     "exception": false,
     "start_time": "2023-01-16T20:24:27.290468",
     "status": "completed"
    },
    "tags": []
   },
   "source": [
    "# Highlights"
   ]
  },
  {
   "cell_type": "markdown",
   "id": "d99a7fb1",
   "metadata": {
    "collapsed": false,
    "papermill": {
     "duration": 0.004754,
     "end_time": "2023-01-16T20:24:27.303647",
     "exception": false,
     "start_time": "2023-01-16T20:24:27.298893",
     "status": "completed"
    },
    "tags": []
   },
   "source": [
    "## Fastest first cap, top 5"
   ]
  },
  {
   "cell_type": "code",
   "execution_count": 4,
   "id": "e8d6902f",
   "metadata": {
    "collapsed": false,
    "execution": {
     "iopub.execute_input": "2023-01-16T20:24:27.327320Z",
     "iopub.status.busy": "2023-01-16T20:24:27.327181Z",
     "iopub.status.idle": "2023-01-16T20:24:27.414011Z",
     "shell.execute_reply": "2023-01-16T20:24:27.413697Z"
    },
    "papermill": {
     "duration": 0.106859,
     "end_time": "2023-01-16T20:24:27.414701",
     "exception": false,
     "start_time": "2023-01-16T20:24:27.307842",
     "status": "completed"
    },
    "tags": []
   },
   "outputs": [
    {
     "data": {
      "image/png": "[encoded data removed]",
      "text/plain": [
       "<Figure size 640x480 with 1 Axes>"
      ]
     },
     "metadata": {},
     "output_type": "display_data"
    }
   ],
   "source": [
    "query = \"\"\"\n",
    "select game, round, name, team, mapName, round(1.0*min(millisSinceStart) / 1000,2) first_cap_seconds\n",
    "from event_cap\n",
    "join player on playfabId = player.id\n",
    "group by game, round\n",
    "order by first_cap_seconds\n",
    "limit 5\n",
    "\"\"\"\n",
    "result1 = pd.read_sql_query(query, con)\n",
    "sns.barplot(result1, y=\"name\", x=\"first_cap_seconds\").set(title=\"Fastest first cap\")\n",
    "pass"
   ]
  },
  {
   "cell_type": "code",
   "execution_count": 5,
   "id": "c5ff9f78",
   "metadata": {
    "collapsed": false,
    "execution": {
     "iopub.execute_input": "2023-01-16T20:24:27.422227Z",
     "iopub.status.busy": "2023-01-16T20:24:27.422100Z",
     "iopub.status.idle": "2023-01-16T20:24:27.426994Z",
     "shell.execute_reply": "2023-01-16T20:24:27.426743Z"
    },
    "papermill": {
     "duration": 0.009534,
     "end_time": "2023-01-16T20:24:27.427783",
     "exception": false,
     "start_time": "2023-01-16T20:24:27.418249",
     "status": "completed"
    },
    "tags": []
   },
   "outputs": [
    {
     "data": {
      "text/html": [
       "<div>\n",
       "<style scoped>\n",
       "    .dataframe tbody tr th:only-of-type {\n",
       "        vertical-align: middle;\n",
       "    }\n",
       "\n",
       "    .dataframe tbody tr th {\n",
       "        vertical-align: top;\n",
       "    }\n",
       "\n",
       "    .dataframe thead th {\n",
       "        text-align: right;\n",
       "    }\n",
       "</style>\n",
       "<table border=\"1\" class=\"dataframe\">\n",
       "  <thead>\n",
       "    <tr style=\"text-align: right;\">\n",
       "      <th></th>\n",
       "      <th>game</th>\n",
       "      <th>round</th>\n",
       "      <th>name</th>\n",
       "      <th>team</th>\n",
       "      <th>mapName</th>\n",
       "      <th>first_cap_seconds</th>\n",
       "    </tr>\n",
       "  </thead>\n",
       "  <tbody>\n",
       "    <tr>\n",
       "      <th>0</th>\n",
       "      <td>1671318701402</td>\n",
       "      <td>1</td>\n",
       "      <td>Anna</td>\n",
       "      <td>Maroon5</td>\n",
       "      <td>ctf_rotten</td>\n",
       "      <td>25.20</td>\n",
       "    </tr>\n",
       "    <tr>\n",
       "      <th>1</th>\n",
       "      <td>1671304340325</td>\n",
       "      <td>0</td>\n",
       "      <td>Morgoth</td>\n",
       "      <td>Maroon5</td>\n",
       "      <td>ctf_wretch</td>\n",
       "      <td>27.35</td>\n",
       "    </tr>\n",
       "    <tr>\n",
       "      <th>2</th>\n",
       "      <td>1671315355884</td>\n",
       "      <td>1</td>\n",
       "      <td>Morgoth</td>\n",
       "      <td>Maroon5</td>\n",
       "      <td>ctf_rotten</td>\n",
       "      <td>28.06</td>\n",
       "    </tr>\n",
       "    <tr>\n",
       "      <th>3</th>\n",
       "      <td>1671309040688</td>\n",
       "      <td>2</td>\n",
       "      <td>dbfseventsd</td>\n",
       "      <td>Mortals</td>\n",
       "      <td>ctf_Spark</td>\n",
       "      <td>28.17</td>\n",
       "    </tr>\n",
       "    <tr>\n",
       "      <th>4</th>\n",
       "      <td>1671311403164</td>\n",
       "      <td>0</td>\n",
       "      <td>haste</td>\n",
       "      <td>DotDotDot</td>\n",
       "      <td>ctf_division</td>\n",
       "      <td>29.72</td>\n",
       "    </tr>\n",
       "  </tbody>\n",
       "</table>\n",
       "</div>"
      ],
      "text/plain": [
       "            game  round         name       team       mapName  \\\n",
       "0  1671318701402      1         Anna    Maroon5    ctf_rotten   \n",
       "1  1671304340325      0      Morgoth    Maroon5    ctf_wretch   \n",
       "2  1671315355884      1      Morgoth    Maroon5    ctf_rotten   \n",
       "3  1671309040688      2  dbfseventsd    Mortals     ctf_Spark   \n",
       "4  1671311403164      0        haste  DotDotDot  ctf_division   \n",
       "\n",
       "   first_cap_seconds  \n",
       "0              25.20  \n",
       "1              27.35  \n",
       "2              28.06  \n",
       "3              28.17  \n",
       "4              29.72  "
      ]
     },
     "execution_count": 5,
     "metadata": {},
     "output_type": "execute_result"
    }
   ],
   "source": [
    "result1"
   ]
  },
  {
   "cell_type": "markdown",
   "id": "f8906dca",
   "metadata": {
    "collapsed": false,
    "papermill": {
     "duration": 0.003562,
     "end_time": "2023-01-16T20:24:27.435004",
     "exception": false,
     "start_time": "2023-01-16T20:24:27.431442",
     "status": "completed"
    },
    "tags": []
   },
   "source": [
    "## Highest average caps per round, top 3"
   ]
  },
  {
   "cell_type": "code",
   "execution_count": 6,
   "id": "e1c5c162",
   "metadata": {
    "collapsed": false,
    "execution": {
     "iopub.execute_input": "2023-01-16T20:24:27.444737Z",
     "iopub.status.busy": "2023-01-16T20:24:27.444599Z",
     "iopub.status.idle": "2023-01-16T20:24:27.524351Z",
     "shell.execute_reply": "2023-01-16T20:24:27.524096Z"
    },
    "papermill": {
     "duration": 0.08565,
     "end_time": "2023-01-16T20:24:27.525133",
     "exception": false,
     "start_time": "2023-01-16T20:24:27.439483",
     "status": "completed"
    },
    "tags": []
   },
   "outputs": [
    {
     "data": {
      "image/png": "[encoded data removed]",
      "text/plain": [
       "<Figure size 640x480 with 1 Axes>"
      ]
     },
     "metadata": {},
     "output_type": "display_data"
    }
   ],
   "source": [
    "query = \"\"\"\n",
    "select name, team,\n",
    "  round(1.0*count(1)/(select count(distinct game + \" \" + round) from event_kill where killerPlayfabId = player.id), 2) avg_caps_per_round,\n",
    "  count(1) total_caps,\n",
    "  (select count(distinct game + \" \" + round) from event_kill where killerPlayfabId = player.id) total_rounds\n",
    "    from event_cap\n",
    "join player on playfabId = player.id group by playfabId order by avg_caps_per_round desc limit 5\n",
    "\"\"\"\n",
    "result2 = pd.read_sql_query(query, con)\n",
    "sns.barplot(result2, y=\"name\", x=\"avg_caps_per_round\").set(title=\"Highest average caps per round\")\n",
    "pass"
   ]
  },
  {
   "cell_type": "code",
   "execution_count": 7,
   "id": "72e49bdf",
   "metadata": {
    "collapsed": false,
    "execution": {
     "iopub.execute_input": "2023-01-16T20:24:27.533274Z",
     "iopub.status.busy": "2023-01-16T20:24:27.533150Z",
     "iopub.status.idle": "2023-01-16T20:24:27.537205Z",
     "shell.execute_reply": "2023-01-16T20:24:27.536955Z"
    },
    "papermill": {
     "duration": 0.009021,
     "end_time": "2023-01-16T20:24:27.537994",
     "exception": false,
     "start_time": "2023-01-16T20:24:27.528973",
     "status": "completed"
    },
    "tags": []
   },
   "outputs": [
    {
     "data": {
      "text/html": [
       "<div>\n",
       "<style scoped>\n",
       "    .dataframe tbody tr th:only-of-type {\n",
       "        vertical-align: middle;\n",
       "    }\n",
       "\n",
       "    .dataframe tbody tr th {\n",
       "        vertical-align: top;\n",
       "    }\n",
       "\n",
       "    .dataframe thead th {\n",
       "        text-align: right;\n",
       "    }\n",
       "</style>\n",
       "<table border=\"1\" class=\"dataframe\">\n",
       "  <thead>\n",
       "    <tr style=\"text-align: right;\">\n",
       "      <th></th>\n",
       "      <th>name</th>\n",
       "      <th>team</th>\n",
       "      <th>avg_caps_per_round</th>\n",
       "      <th>total_caps</th>\n",
       "      <th>total_rounds</th>\n",
       "    </tr>\n",
       "  </thead>\n",
       "  <tbody>\n",
       "    <tr>\n",
       "      <th>0</th>\n",
       "      <td>nino</td>\n",
       "      <td>Maroon5</td>\n",
       "      <td>1.32</td>\n",
       "      <td>25</td>\n",
       "      <td>19</td>\n",
       "    </tr>\n",
       "    <tr>\n",
       "      <th>1</th>\n",
       "      <td>Norbo11</td>\n",
       "      <td>2Tilted</td>\n",
       "      <td>1.24</td>\n",
       "      <td>21</td>\n",
       "      <td>17</td>\n",
       "    </tr>\n",
       "    <tr>\n",
       "      <th>2</th>\n",
       "      <td>dD</td>\n",
       "      <td>NoMoreOverheat</td>\n",
       "      <td>1.21</td>\n",
       "      <td>23</td>\n",
       "      <td>19</td>\n",
       "    </tr>\n",
       "    <tr>\n",
       "      <th>3</th>\n",
       "      <td>papu</td>\n",
       "      <td>WeAreTeam7</td>\n",
       "      <td>1.15</td>\n",
       "      <td>23</td>\n",
       "      <td>20</td>\n",
       "    </tr>\n",
       "    <tr>\n",
       "      <th>4</th>\n",
       "      <td>kevin16king</td>\n",
       "      <td>NoMoreOverheat</td>\n",
       "      <td>0.95</td>\n",
       "      <td>18</td>\n",
       "      <td>19</td>\n",
       "    </tr>\n",
       "  </tbody>\n",
       "</table>\n",
       "</div>"
      ],
      "text/plain": [
       "          name            team  avg_caps_per_round  total_caps  total_rounds\n",
       "0         nino         Maroon5                1.32          25            19\n",
       "1      Norbo11         2Tilted                1.24          21            17\n",
       "2           dD  NoMoreOverheat                1.21          23            19\n",
       "3         papu      WeAreTeam7                1.15          23            20\n",
       "4  kevin16king  NoMoreOverheat                0.95          18            19"
      ]
     },
     "execution_count": 7,
     "metadata": {},
     "output_type": "execute_result"
    }
   ],
   "source": [
    "result2"
   ]
  },
  {
   "cell_type": "markdown",
   "id": "8f83776f",
   "metadata": {
    "collapsed": false,
    "papermill": {
     "duration": 0.004205,
     "end_time": "2023-01-16T20:24:27.546190",
     "exception": false,
     "start_time": "2023-01-16T20:24:27.541985",
     "status": "completed"
    },
    "tags": []
   },
   "source": [
    "## Highest k/d per team, top 3"
   ]
  },
  {
   "cell_type": "code",
   "execution_count": 8,
   "id": "8f2f2777",
   "metadata": {
    "collapsed": false,
    "execution": {
     "iopub.execute_input": "2023-01-16T20:24:27.556940Z",
     "iopub.status.busy": "2023-01-16T20:24:27.556800Z",
     "iopub.status.idle": "2023-01-16T20:24:27.622749Z",
     "shell.execute_reply": "2023-01-16T20:24:27.622434Z"
    },
    "papermill": {
     "duration": 0.07226,
     "end_time": "2023-01-16T20:24:27.623564",
     "exception": false,
     "start_time": "2023-01-16T20:24:27.551304",
     "status": "completed"
    },
    "tags": []
   },
   "outputs": [
    {
     "data": {
      "image/png": "[encoded data removed]",
      "text/plain": [
       "<Figure size 640x480 with 1 Axes>"
      ]
     },
     "metadata": {},
     "output_type": "display_data"
    }
   ],
   "source": [
    "query = \"\"\"\n",
    "select distinct team,\n",
    "    round(1.0 * (select count(1) from event_kill ek join player p on ek.killerPlayfabId = p.id where p.team = player.team)/\n",
    "    (select count(1) from event_kill ek join player p on ek.victimPlayfabId = p.id where p.team = player.team),3) as kd\n",
    "from player order by kd desc limit 3;\n",
    "    \"\"\"\n",
    "result3 = pd.read_sql_query(query, con)\n",
    "sns.barplot(result3, y=\"team\", x=\"kd\").set(title=\"Highest k/d per team\")\n",
    "pass"
   ]
  },
  {
   "cell_type": "code",
   "execution_count": 9,
   "id": "233495f1",
   "metadata": {
    "collapsed": false,
    "execution": {
     "iopub.execute_input": "2023-01-16T20:24:27.632293Z",
     "iopub.status.busy": "2023-01-16T20:24:27.632160Z",
     "iopub.status.idle": "2023-01-16T20:24:27.635626Z",
     "shell.execute_reply": "2023-01-16T20:24:27.635338Z"
    },
    "papermill": {
     "duration": 0.008719,
     "end_time": "2023-01-16T20:24:27.636419",
     "exception": false,
     "start_time": "2023-01-16T20:24:27.627700",
     "status": "completed"
    },
    "tags": []
   },
   "outputs": [
    {
     "data": {
      "text/html": [
       "<div>\n",
       "<style scoped>\n",
       "    .dataframe tbody tr th:only-of-type {\n",
       "        vertical-align: middle;\n",
       "    }\n",
       "\n",
       "    .dataframe tbody tr th {\n",
       "        vertical-align: top;\n",
       "    }\n",
       "\n",
       "    .dataframe thead th {\n",
       "        text-align: right;\n",
       "    }\n",
       "</style>\n",
       "<table border=\"1\" class=\"dataframe\">\n",
       "  <thead>\n",
       "    <tr style=\"text-align: right;\">\n",
       "      <th></th>\n",
       "      <th>team</th>\n",
       "      <th>kd</th>\n",
       "    </tr>\n",
       "  </thead>\n",
       "  <tbody>\n",
       "    <tr>\n",
       "      <th>0</th>\n",
       "      <td>BaseHot</td>\n",
       "      <td>1.058</td>\n",
       "    </tr>\n",
       "    <tr>\n",
       "      <th>1</th>\n",
       "      <td>Maroon5</td>\n",
       "      <td>1.050</td>\n",
       "    </tr>\n",
       "    <tr>\n",
       "      <th>2</th>\n",
       "      <td>2Tilted</td>\n",
       "      <td>1.027</td>\n",
       "    </tr>\n",
       "  </tbody>\n",
       "</table>\n",
       "</div>"
      ],
      "text/plain": [
       "      team     kd\n",
       "0  BaseHot  1.058\n",
       "1  Maroon5  1.050\n",
       "2  2Tilted  1.027"
      ]
     },
     "execution_count": 9,
     "metadata": {},
     "output_type": "execute_result"
    }
   ],
   "source": [
    "result3"
   ]
  },
  {
   "cell_type": "markdown",
   "id": "725c251e",
   "metadata": {
    "collapsed": false,
    "papermill": {
     "duration": 0.004084,
     "end_time": "2023-01-16T20:24:27.644746",
     "exception": false,
     "start_time": "2023-01-16T20:24:27.640662",
     "status": "completed"
    },
    "tags": []
   },
   "source": [
    "## Highest kill count average per round, top 5"
   ]
  },
  {
   "cell_type": "code",
   "execution_count": 10,
   "id": "9003bc61",
   "metadata": {
    "collapsed": false,
    "execution": {
     "iopub.execute_input": "2023-01-16T20:24:27.654020Z",
     "iopub.status.busy": "2023-01-16T20:24:27.653885Z",
     "iopub.status.idle": "2023-01-16T20:24:27.733761Z",
     "shell.execute_reply": "2023-01-16T20:24:27.733428Z"
    },
    "papermill": {
     "duration": 0.085996,
     "end_time": "2023-01-16T20:24:27.734912",
     "exception": false,
     "start_time": "2023-01-16T20:24:27.648916",
     "status": "completed"
    },
    "tags": []
   },
   "outputs": [
    {
     "data": {
      "image/png": "[encoded data removed]",
      "text/plain": [
       "<Figure size 640x480 with 1 Axes>"
      ]
     },
     "metadata": {},
     "output_type": "display_data"
    }
   ],
   "source": [
    "query = \"\"\"\n",
    "select player.name, player.team,\n",
    "       round(1.0 * count(1)\n",
    "       / (select count(distinct game + \" \" + round) from event_kill where killerPlayfabId = player.id)\n",
    "             ,2) as avg_kills_per_round,\n",
    "        (select weaponName from event_kill where killerPlayfabId = player.id group by weaponName order by count(1) desc limit 1) as most_used_weapon\n",
    "from event_kill\n",
    "         join player on id = killerPlayfabId\n",
    "group by killerPlayfabId\n",
    "order by avg_kills_per_round desc\n",
    "limit 5\n",
    "\"\"\"\n",
    "result4 = pd.read_sql_query(query, con)\n",
    "sns.barplot(result4, y=\"name\", x=\"avg_kills_per_round\").set(title=\"Highest kill count average per round, top 5\")\n",
    "pass"
   ]
  },
  {
   "cell_type": "code",
   "execution_count": 11,
   "id": "0fddeb84",
   "metadata": {
    "collapsed": false,
    "execution": {
     "iopub.execute_input": "2023-01-16T20:24:27.750293Z",
     "iopub.status.busy": "2023-01-16T20:24:27.750054Z",
     "iopub.status.idle": "2023-01-16T20:24:27.754205Z",
     "shell.execute_reply": "2023-01-16T20:24:27.753920Z"
    },
    "papermill": {
     "duration": 0.012595,
     "end_time": "2023-01-16T20:24:27.754941",
     "exception": false,
     "start_time": "2023-01-16T20:24:27.742346",
     "status": "completed"
    },
    "tags": []
   },
   "outputs": [
    {
     "data": {
      "text/html": [
       "<div>\n",
       "<style scoped>\n",
       "    .dataframe tbody tr th:only-of-type {\n",
       "        vertical-align: middle;\n",
       "    }\n",
       "\n",
       "    .dataframe tbody tr th {\n",
       "        vertical-align: top;\n",
       "    }\n",
       "\n",
       "    .dataframe thead th {\n",
       "        text-align: right;\n",
       "    }\n",
       "</style>\n",
       "<table border=\"1\" class=\"dataframe\">\n",
       "  <thead>\n",
       "    <tr style=\"text-align: right;\">\n",
       "      <th></th>\n",
       "      <th>name</th>\n",
       "      <th>team</th>\n",
       "      <th>avg_kills_per_round</th>\n",
       "      <th>most_used_weapon</th>\n",
       "    </tr>\n",
       "  </thead>\n",
       "  <tbody>\n",
       "    <tr>\n",
       "      <th>0</th>\n",
       "      <td>papu</td>\n",
       "      <td>WeAreTeam7</td>\n",
       "      <td>23.95</td>\n",
       "      <td>SteyrAUG</td>\n",
       "    </tr>\n",
       "    <tr>\n",
       "      <th>1</th>\n",
       "      <td>proto</td>\n",
       "      <td>BaseHot</td>\n",
       "      <td>23.67</td>\n",
       "      <td>Kalashnikov</td>\n",
       "    </tr>\n",
       "    <tr>\n",
       "      <th>2</th>\n",
       "      <td>nino</td>\n",
       "      <td>Maroon5</td>\n",
       "      <td>22.16</td>\n",
       "      <td>MP5</td>\n",
       "    </tr>\n",
       "    <tr>\n",
       "      <th>3</th>\n",
       "      <td>YnGwi3</td>\n",
       "      <td>2Tilted</td>\n",
       "      <td>20.76</td>\n",
       "      <td>MP5</td>\n",
       "    </tr>\n",
       "    <tr>\n",
       "      <th>4</th>\n",
       "      <td>dD</td>\n",
       "      <td>NoMoreOverheat</td>\n",
       "      <td>20.74</td>\n",
       "      <td>MP5</td>\n",
       "    </tr>\n",
       "  </tbody>\n",
       "</table>\n",
       "</div>"
      ],
      "text/plain": [
       "     name            team  avg_kills_per_round most_used_weapon\n",
       "0    papu      WeAreTeam7                23.95         SteyrAUG\n",
       "1   proto         BaseHot                23.67      Kalashnikov\n",
       "2    nino         Maroon5                22.16              MP5\n",
       "3  YnGwi3         2Tilted                20.76              MP5\n",
       "4      dD  NoMoreOverheat                20.74              MP5"
      ]
     },
     "execution_count": 11,
     "metadata": {},
     "output_type": "execute_result"
    }
   ],
   "source": [
    "result4"
   ]
  },
  {
   "cell_type": "markdown",
   "id": "3abd2ef0",
   "metadata": {
    "collapsed": false,
    "papermill": {
     "duration": 0.005344,
     "end_time": "2023-01-16T20:24:27.765557",
     "exception": false,
     "start_time": "2023-01-16T20:24:27.760213",
     "status": "completed"
    },
    "tags": []
   },
   "source": [
    "### highest k/d, top 5"
   ]
  },
  {
   "cell_type": "code",
   "execution_count": 12,
   "id": "48a79297",
   "metadata": {
    "collapsed": false,
    "execution": {
     "iopub.execute_input": "2023-01-16T20:24:27.776922Z",
     "iopub.status.busy": "2023-01-16T20:24:27.776697Z",
     "iopub.status.idle": "2023-01-16T20:24:27.859830Z",
     "shell.execute_reply": "2023-01-16T20:24:27.859514Z"
    },
    "papermill": {
     "duration": 0.089317,
     "end_time": "2023-01-16T20:24:27.860511",
     "exception": false,
     "start_time": "2023-01-16T20:24:27.771194",
     "status": "completed"
    },
    "tags": []
   },
   "outputs": [
    {
     "data": {
      "image/png": "[encoded data removed]",
      "text/plain": [
       "<Figure size 640x480 with 1 Axes>"
      ]
     },
     "metadata": {},
     "output_type": "display_data"
    }
   ],
   "source": [
    "query = \"\"\"\n",
    "select name,\n",
    "       round(1.0 * (select count(1) from event_kill where killerPlayfabId = id)/(select count(1) from event_kill where victimPlayfabId = id), 3) as kd\n",
    "       from player order by kd desc limit 5\n",
    "    \"\"\"\n",
    "result5 = pd.read_sql_query(query, con)\n",
    "sns.barplot(result5, y=\"name\", x=\"kd\").set(title=\"Highest k/d\")\n",
    "pass"
   ]
  },
  {
   "cell_type": "code",
   "execution_count": 13,
   "id": "d2e0af8b",
   "metadata": {
    "collapsed": false,
    "execution": {
     "iopub.execute_input": "2023-01-16T20:24:27.870335Z",
     "iopub.status.busy": "2023-01-16T20:24:27.870202Z",
     "iopub.status.idle": "2023-01-16T20:24:27.873702Z",
     "shell.execute_reply": "2023-01-16T20:24:27.873438Z"
    },
    "papermill": {
     "duration": 0.009305,
     "end_time": "2023-01-16T20:24:27.874460",
     "exception": false,
     "start_time": "2023-01-16T20:24:27.865155",
     "status": "completed"
    },
    "tags": []
   },
   "outputs": [
    {
     "data": {
      "text/html": [
       "<div>\n",
       "<style scoped>\n",
       "    .dataframe tbody tr th:only-of-type {\n",
       "        vertical-align: middle;\n",
       "    }\n",
       "\n",
       "    .dataframe tbody tr th {\n",
       "        vertical-align: top;\n",
       "    }\n",
       "\n",
       "    .dataframe thead th {\n",
       "        text-align: right;\n",
       "    }\n",
       "</style>\n",
       "<table border=\"1\" class=\"dataframe\">\n",
       "  <thead>\n",
       "    <tr style=\"text-align: right;\">\n",
       "      <th></th>\n",
       "      <th>name</th>\n",
       "      <th>kd</th>\n",
       "    </tr>\n",
       "  </thead>\n",
       "  <tbody>\n",
       "    <tr>\n",
       "      <th>0</th>\n",
       "      <td>proto</td>\n",
       "      <td>1.372</td>\n",
       "    </tr>\n",
       "    <tr>\n",
       "      <th>1</th>\n",
       "      <td>papu</td>\n",
       "      <td>1.281</td>\n",
       "    </tr>\n",
       "    <tr>\n",
       "      <th>2</th>\n",
       "      <td>YnGwi3</td>\n",
       "      <td>1.189</td>\n",
       "    </tr>\n",
       "    <tr>\n",
       "      <th>3</th>\n",
       "      <td>challz</td>\n",
       "      <td>1.169</td>\n",
       "    </tr>\n",
       "    <tr>\n",
       "      <th>4</th>\n",
       "      <td>dD</td>\n",
       "      <td>1.145</td>\n",
       "    </tr>\n",
       "  </tbody>\n",
       "</table>\n",
       "</div>"
      ],
      "text/plain": [
       "     name     kd\n",
       "0   proto  1.372\n",
       "1    papu  1.281\n",
       "2  YnGwi3  1.189\n",
       "3  challz  1.169\n",
       "4      dD  1.145"
      ]
     },
     "execution_count": 13,
     "metadata": {},
     "output_type": "execute_result"
    }
   ],
   "source": [
    "result5"
   ]
  },
  {
   "cell_type": "markdown",
   "id": "318403ba",
   "metadata": {
    "collapsed": false,
    "papermill": {
     "duration": 0.005948,
     "end_time": "2023-01-16T20:24:27.885208",
     "exception": false,
     "start_time": "2023-01-16T20:24:27.879260",
     "status": "completed"
    },
    "tags": []
   },
   "source": [
    "## Maps played"
   ]
  },
  {
   "cell_type": "code",
   "execution_count": 14,
   "id": "d4a8c9d4",
   "metadata": {
    "collapsed": false,
    "execution": {
     "iopub.execute_input": "2023-01-16T20:24:27.898212Z",
     "iopub.status.busy": "2023-01-16T20:24:27.898045Z",
     "iopub.status.idle": "2023-01-16T20:24:28.032899Z",
     "shell.execute_reply": "2023-01-16T20:24:28.032645Z"
    },
    "papermill": {
     "duration": 0.142954,
     "end_time": "2023-01-16T20:24:28.034362",
     "exception": false,
     "start_time": "2023-01-16T20:24:27.891408",
     "status": "completed"
    },
    "tags": []
   },
   "outputs": [
    {
     "data": {
      "image/png": "[encoded data removed]",
      "text/plain": [
       "<Figure size 640x480 with 1 Axes>"
      ]
     },
     "metadata": {},
     "output_type": "display_data"
    }
   ],
   "source": [
    "result6 = pd.read_sql_query(\"select mapName, count(1) as count from round group by mapName order by count desc\", con)\n",
    "sns.barplot(result6,\n",
    "            y=\"mapName\", x=\"count\").set(title=\"Maps played\")\n",
    "pass"
   ]
  },
  {
   "cell_type": "code",
   "execution_count": 15,
   "id": "3c96cbce",
   "metadata": {
    "collapsed": false,
    "execution": {
     "iopub.execute_input": "2023-01-16T20:24:28.050416Z",
     "iopub.status.busy": "2023-01-16T20:24:28.050277Z",
     "iopub.status.idle": "2023-01-16T20:24:28.053895Z",
     "shell.execute_reply": "2023-01-16T20:24:28.053632Z"
    },
    "papermill": {
     "duration": 0.012642,
     "end_time": "2023-01-16T20:24:28.055045",
     "exception": false,
     "start_time": "2023-01-16T20:24:28.042403",
     "status": "completed"
    },
    "tags": []
   },
   "outputs": [
    {
     "data": {
      "text/html": [
       "<div>\n",
       "<style scoped>\n",
       "    .dataframe tbody tr th:only-of-type {\n",
       "        vertical-align: middle;\n",
       "    }\n",
       "\n",
       "    .dataframe tbody tr th {\n",
       "        vertical-align: top;\n",
       "    }\n",
       "\n",
       "    .dataframe thead th {\n",
       "        text-align: right;\n",
       "    }\n",
       "</style>\n",
       "<table border=\"1\" class=\"dataframe\">\n",
       "  <thead>\n",
       "    <tr style=\"text-align: right;\">\n",
       "      <th></th>\n",
       "      <th>mapName</th>\n",
       "      <th>count</th>\n",
       "    </tr>\n",
       "  </thead>\n",
       "  <tbody>\n",
       "    <tr>\n",
       "      <th>0</th>\n",
       "      <td>ctf_rotten</td>\n",
       "      <td>8</td>\n",
       "    </tr>\n",
       "    <tr>\n",
       "      <th>1</th>\n",
       "      <td>ctf_guardian</td>\n",
       "      <td>8</td>\n",
       "    </tr>\n",
       "    <tr>\n",
       "      <th>2</th>\n",
       "      <td>ctf_division</td>\n",
       "      <td>6</td>\n",
       "    </tr>\n",
       "    <tr>\n",
       "      <th>3</th>\n",
       "      <td>ctf_cobra</td>\n",
       "      <td>5</td>\n",
       "    </tr>\n",
       "    <tr>\n",
       "      <th>4</th>\n",
       "      <td>ctf_Spark</td>\n",
       "      <td>5</td>\n",
       "    </tr>\n",
       "    <tr>\n",
       "      <th>5</th>\n",
       "      <td>ctf_steel</td>\n",
       "      <td>4</td>\n",
       "    </tr>\n",
       "    <tr>\n",
       "      <th>6</th>\n",
       "      <td>ctf_x</td>\n",
       "      <td>3</td>\n",
       "    </tr>\n",
       "    <tr>\n",
       "      <th>7</th>\n",
       "      <td>ctf_wretch</td>\n",
       "      <td>3</td>\n",
       "    </tr>\n",
       "    <tr>\n",
       "      <th>8</th>\n",
       "      <td>ctf_newbia</td>\n",
       "      <td>3</td>\n",
       "    </tr>\n",
       "    <tr>\n",
       "      <th>9</th>\n",
       "      <td>ctf_dopamine</td>\n",
       "      <td>3</td>\n",
       "    </tr>\n",
       "    <tr>\n",
       "      <th>10</th>\n",
       "      <td>ctf_dogbite</td>\n",
       "      <td>3</td>\n",
       "    </tr>\n",
       "    <tr>\n",
       "      <th>11</th>\n",
       "      <td>ctf_crossfire</td>\n",
       "      <td>2</td>\n",
       "    </tr>\n",
       "    <tr>\n",
       "      <th>12</th>\n",
       "      <td>ctf_tyrus</td>\n",
       "      <td>1</td>\n",
       "    </tr>\n",
       "    <tr>\n",
       "      <th>13</th>\n",
       "      <td>ctf_snakebite</td>\n",
       "      <td>1</td>\n",
       "    </tr>\n",
       "    <tr>\n",
       "      <th>14</th>\n",
       "      <td>ctf_huracan</td>\n",
       "      <td>1</td>\n",
       "    </tr>\n",
       "    <tr>\n",
       "      <th>15</th>\n",
       "      <td>ctf_hormone</td>\n",
       "      <td>1</td>\n",
       "    </tr>\n",
       "    <tr>\n",
       "      <th>16</th>\n",
       "      <td>ctf_campsite</td>\n",
       "      <td>1</td>\n",
       "    </tr>\n",
       "  </tbody>\n",
       "</table>\n",
       "</div>"
      ],
      "text/plain": [
       "          mapName  count\n",
       "0      ctf_rotten      8\n",
       "1    ctf_guardian      8\n",
       "2    ctf_division      6\n",
       "3       ctf_cobra      5\n",
       "4       ctf_Spark      5\n",
       "5       ctf_steel      4\n",
       "6           ctf_x      3\n",
       "7      ctf_wretch      3\n",
       "8      ctf_newbia      3\n",
       "9    ctf_dopamine      3\n",
       "10    ctf_dogbite      3\n",
       "11  ctf_crossfire      2\n",
       "12      ctf_tyrus      1\n",
       "13  ctf_snakebite      1\n",
       "14    ctf_huracan      1\n",
       "15    ctf_hormone      1\n",
       "16   ctf_campsite      1"
      ]
     },
     "execution_count": 15,
     "metadata": {},
     "output_type": "execute_result"
    }
   ],
   "source": [
    "result6"
   ]
  },
  {
   "cell_type": "markdown",
   "id": "7bac6282",
   "metadata": {
    "collapsed": false,
    "papermill": {
     "duration": 0.006522,
     "end_time": "2023-01-16T20:24:28.068030",
     "exception": false,
     "start_time": "2023-01-16T20:24:28.061508",
     "status": "completed"
    },
    "tags": []
   },
   "source": [
    "## Average cap count per round"
   ]
  },
  {
   "cell_type": "code",
   "execution_count": 16,
   "id": "801fdce4",
   "metadata": {
    "collapsed": false,
    "execution": {
     "iopub.execute_input": "2023-01-16T20:24:28.080935Z",
     "iopub.status.busy": "2023-01-16T20:24:28.080798Z",
     "iopub.status.idle": "2023-01-16T20:24:28.212914Z",
     "shell.execute_reply": "2023-01-16T20:24:28.212595Z"
    },
    "papermill": {
     "duration": 0.139155,
     "end_time": "2023-01-16T20:24:28.213886",
     "exception": false,
     "start_time": "2023-01-16T20:24:28.074731",
     "status": "completed"
    },
    "tags": []
   },
   "outputs": [
    {
     "data": {
      "image/png": "[encoded data removed]",
      "text/plain": [
       "<Figure size 640x480 with 1 Axes>"
      ]
     },
     "metadata": {},
     "output_type": "display_data"
    }
   ],
   "source": [
    "\n",
    "query = \"\"\"\n",
    "select distinct mapName,\n",
    "round(1.0 *\n",
    "    (select count(1) from event_cap c where r.mapName = c.mapName)/\n",
    "    (select count(1) from round rr where r.mapName = rr.mapName), 1) avg_caps_per_round\n",
    "from round r order by avg_caps_per_round desc;\n",
    "\"\"\"\n",
    "result7 = pd.read_sql_query(query, con)\n",
    "sns.barplot(result7, y=\"mapName\", x=\"avg_caps_per_round\").set(title=\"Average cap count per round\")\n",
    "pass"
   ]
  },
  {
   "cell_type": "code",
   "execution_count": 17,
   "id": "04e04bfa",
   "metadata": {
    "collapsed": false,
    "execution": {
     "iopub.execute_input": "2023-01-16T20:24:28.225067Z",
     "iopub.status.busy": "2023-01-16T20:24:28.224881Z",
     "iopub.status.idle": "2023-01-16T20:24:28.229446Z",
     "shell.execute_reply": "2023-01-16T20:24:28.229102Z"
    },
    "papermill": {
     "duration": 0.010611,
     "end_time": "2023-01-16T20:24:28.230154",
     "exception": false,
     "start_time": "2023-01-16T20:24:28.219543",
     "status": "completed"
    },
    "tags": []
   },
   "outputs": [
    {
     "data": {
      "text/html": [
       "<div>\n",
       "<style scoped>\n",
       "    .dataframe tbody tr th:only-of-type {\n",
       "        vertical-align: middle;\n",
       "    }\n",
       "\n",
       "    .dataframe tbody tr th {\n",
       "        vertical-align: top;\n",
       "    }\n",
       "\n",
       "    .dataframe thead th {\n",
       "        text-align: right;\n",
       "    }\n",
       "</style>\n",
       "<table border=\"1\" class=\"dataframe\">\n",
       "  <thead>\n",
       "    <tr style=\"text-align: right;\">\n",
       "      <th></th>\n",
       "      <th>mapName</th>\n",
       "      <th>avg_caps_per_round</th>\n",
       "    </tr>\n",
       "  </thead>\n",
       "  <tbody>\n",
       "    <tr>\n",
       "      <th>0</th>\n",
       "      <td>ctf_cobra</td>\n",
       "      <td>6.6</td>\n",
       "    </tr>\n",
       "    <tr>\n",
       "      <th>1</th>\n",
       "      <td>ctf_guardian</td>\n",
       "      <td>6.3</td>\n",
       "    </tr>\n",
       "    <tr>\n",
       "      <th>2</th>\n",
       "      <td>ctf_crossfire</td>\n",
       "      <td>6.0</td>\n",
       "    </tr>\n",
       "    <tr>\n",
       "      <th>3</th>\n",
       "      <td>ctf_tyrus</td>\n",
       "      <td>6.0</td>\n",
       "    </tr>\n",
       "    <tr>\n",
       "      <th>4</th>\n",
       "      <td>ctf_wretch</td>\n",
       "      <td>5.3</td>\n",
       "    </tr>\n",
       "    <tr>\n",
       "      <th>5</th>\n",
       "      <td>ctf_x</td>\n",
       "      <td>5.3</td>\n",
       "    </tr>\n",
       "    <tr>\n",
       "      <th>6</th>\n",
       "      <td>ctf_rotten</td>\n",
       "      <td>5.1</td>\n",
       "    </tr>\n",
       "    <tr>\n",
       "      <th>7</th>\n",
       "      <td>ctf_hormone</td>\n",
       "      <td>5.0</td>\n",
       "    </tr>\n",
       "    <tr>\n",
       "      <th>8</th>\n",
       "      <td>ctf_campsite</td>\n",
       "      <td>5.0</td>\n",
       "    </tr>\n",
       "    <tr>\n",
       "      <th>9</th>\n",
       "      <td>ctf_dogbite</td>\n",
       "      <td>4.7</td>\n",
       "    </tr>\n",
       "    <tr>\n",
       "      <th>10</th>\n",
       "      <td>ctf_snakebite</td>\n",
       "      <td>4.0</td>\n",
       "    </tr>\n",
       "    <tr>\n",
       "      <th>11</th>\n",
       "      <td>ctf_division</td>\n",
       "      <td>3.8</td>\n",
       "    </tr>\n",
       "    <tr>\n",
       "      <th>12</th>\n",
       "      <td>ctf_Spark</td>\n",
       "      <td>3.8</td>\n",
       "    </tr>\n",
       "    <tr>\n",
       "      <th>13</th>\n",
       "      <td>ctf_steel</td>\n",
       "      <td>3.3</td>\n",
       "    </tr>\n",
       "    <tr>\n",
       "      <th>14</th>\n",
       "      <td>ctf_huracan</td>\n",
       "      <td>3.0</td>\n",
       "    </tr>\n",
       "    <tr>\n",
       "      <th>15</th>\n",
       "      <td>ctf_dopamine</td>\n",
       "      <td>2.7</td>\n",
       "    </tr>\n",
       "    <tr>\n",
       "      <th>16</th>\n",
       "      <td>ctf_newbia</td>\n",
       "      <td>1.7</td>\n",
       "    </tr>\n",
       "  </tbody>\n",
       "</table>\n",
       "</div>"
      ],
      "text/plain": [
       "          mapName  avg_caps_per_round\n",
       "0       ctf_cobra                 6.6\n",
       "1    ctf_guardian                 6.3\n",
       "2   ctf_crossfire                 6.0\n",
       "3       ctf_tyrus                 6.0\n",
       "4      ctf_wretch                 5.3\n",
       "5           ctf_x                 5.3\n",
       "6      ctf_rotten                 5.1\n",
       "7     ctf_hormone                 5.0\n",
       "8    ctf_campsite                 5.0\n",
       "9     ctf_dogbite                 4.7\n",
       "10  ctf_snakebite                 4.0\n",
       "11   ctf_division                 3.8\n",
       "12      ctf_Spark                 3.8\n",
       "13      ctf_steel                 3.3\n",
       "14    ctf_huracan                 3.0\n",
       "15   ctf_dopamine                 2.7\n",
       "16     ctf_newbia                 1.7"
      ]
     },
     "execution_count": 17,
     "metadata": {},
     "output_type": "execute_result"
    }
   ],
   "source": [
    "result7"
   ]
  },
  {
   "cell_type": "code",
   "execution_count": 18,
   "id": "0b2bbc6b",
   "metadata": {
    "collapsed": false,
    "execution": {
     "iopub.execute_input": "2023-01-16T20:24:28.241312Z",
     "iopub.status.busy": "2023-01-16T20:24:28.241065Z",
     "iopub.status.idle": "2023-01-16T20:24:28.242892Z",
     "shell.execute_reply": "2023-01-16T20:24:28.242631Z"
    },
    "papermill": {
     "duration": 0.00768,
     "end_time": "2023-01-16T20:24:28.243509",
     "exception": false,
     "start_time": "2023-01-16T20:24:28.235829",
     "status": "completed"
    },
    "tags": []
   },
   "outputs": [],
   "source": [
    "## Average rounds per game"
   ]
  },
  {
   "cell_type": "code",
   "execution_count": 19,
   "id": "a3b07c41",
   "metadata": {
    "collapsed": false,
    "execution": {
     "iopub.execute_input": "2023-01-16T20:24:28.253702Z",
     "iopub.status.busy": "2023-01-16T20:24:28.253468Z",
     "iopub.status.idle": "2023-01-16T20:24:28.306420Z",
     "shell.execute_reply": "2023-01-16T20:24:28.306155Z"
    },
    "papermill": {
     "duration": 0.058788,
     "end_time": "2023-01-16T20:24:28.307106",
     "exception": false,
     "start_time": "2023-01-16T20:24:28.248318",
     "status": "completed"
    },
    "tags": []
   },
   "outputs": [
    {
     "data": {
      "image/png": "[encoded data removed]",
      "text/plain": [
       "<Figure size 640x480 with 1 Axes>"
      ]
     },
     "metadata": {},
     "output_type": "display_data"
    }
   ],
   "source": [
    "query = \"\"\"select\n",
    "\"all_games\" as all_games,\n",
    "(select count(distinct game) from round) games_played,\n",
    "(select count(1) from round) rounds_played,\n",
    "round(1.0*(select count(1) from round)/(select count(distinct game) from round),1) avg_rounds_per_game\n",
    "\"\"\"\n",
    "result_rounds_per_game = pd.read_sql_query(query, con)\n",
    "sns.barplot(result_rounds_per_game, y=\"all_games\", x=\"avg_rounds_per_game\").set(title=\"Average rounds per game\")\n",
    "pass"
   ]
  },
  {
   "cell_type": "code",
   "execution_count": 20,
   "id": "b4812748",
   "metadata": {
    "collapsed": false,
    "execution": {
     "iopub.execute_input": "2023-01-16T20:24:28.317392Z",
     "iopub.status.busy": "2023-01-16T20:24:28.317189Z",
     "iopub.status.idle": "2023-01-16T20:24:28.320764Z",
     "shell.execute_reply": "2023-01-16T20:24:28.320512Z"
    },
    "papermill": {
     "duration": 0.009457,
     "end_time": "2023-01-16T20:24:28.321427",
     "exception": false,
     "start_time": "2023-01-16T20:24:28.311970",
     "status": "completed"
    },
    "tags": []
   },
   "outputs": [
    {
     "data": {
      "text/html": [
       "<div>\n",
       "<style scoped>\n",
       "    .dataframe tbody tr th:only-of-type {\n",
       "        vertical-align: middle;\n",
       "    }\n",
       "\n",
       "    .dataframe tbody tr th {\n",
       "        vertical-align: top;\n",
       "    }\n",
       "\n",
       "    .dataframe thead th {\n",
       "        text-align: right;\n",
       "    }\n",
       "</style>\n",
       "<table border=\"1\" class=\"dataframe\">\n",
       "  <thead>\n",
       "    <tr style=\"text-align: right;\">\n",
       "      <th></th>\n",
       "      <th>all_games</th>\n",
       "      <th>games_played</th>\n",
       "      <th>rounds_played</th>\n",
       "      <th>avg_rounds_per_game</th>\n",
       "    </tr>\n",
       "  </thead>\n",
       "  <tbody>\n",
       "    <tr>\n",
       "      <th>0</th>\n",
       "      <td>all_games</td>\n",
       "      <td>23</td>\n",
       "      <td>58</td>\n",
       "      <td>2.5</td>\n",
       "    </tr>\n",
       "  </tbody>\n",
       "</table>\n",
       "</div>"
      ],
      "text/plain": [
       "   all_games  games_played  rounds_played  avg_rounds_per_game\n",
       "0  all_games            23             58                  2.5"
      ]
     },
     "execution_count": 20,
     "metadata": {},
     "output_type": "execute_result"
    }
   ],
   "source": [
    "result_rounds_per_game"
   ]
  },
  {
   "cell_type": "markdown",
   "id": "f3d0e7d5",
   "metadata": {
    "collapsed": false,
    "papermill": {
     "duration": 0.004896,
     "end_time": "2023-01-16T20:24:28.331296",
     "exception": false,
     "start_time": "2023-01-16T20:24:28.326400",
     "status": "completed"
    },
    "tags": []
   },
   "source": [
    "## Round result"
   ]
  },
  {
   "cell_type": "code",
   "execution_count": 21,
   "id": "a32ab4d6",
   "metadata": {
    "collapsed": false,
    "execution": {
     "iopub.execute_input": "2023-01-16T20:24:28.341860Z",
     "iopub.status.busy": "2023-01-16T20:24:28.341637Z",
     "iopub.status.idle": "2023-01-16T20:24:28.402378Z",
     "shell.execute_reply": "2023-01-16T20:24:28.402087Z"
    },
    "papermill": {
     "duration": 0.066854,
     "end_time": "2023-01-16T20:24:28.403108",
     "exception": false,
     "start_time": "2023-01-16T20:24:28.336254",
     "status": "completed"
    },
    "tags": []
   },
   "outputs": [
    {
     "data": {
      "image/png": "[encoded data removed]",
      "text/plain": [
       "<Figure size 640x480 with 1 Axes>"
      ]
     },
     "metadata": {},
     "output_type": "display_data"
    }
   ],
   "source": [
    "query = \"\"\"\n",
    "select result, count(1) rounds_count from round group by result;\n",
    "\"\"\"\n",
    "result_round_result = pd.read_sql_query(query, con)\n",
    "sns.barplot(result_round_result, y=\"result\", x=\"rounds_count\", orient=\"h\").set(title=\"Round result\")\n",
    "pass"
   ]
  },
  {
   "cell_type": "markdown",
   "id": "f2da9fbe",
   "metadata": {
    "collapsed": false,
    "papermill": {
     "duration": 0.005248,
     "end_time": "2023-01-16T20:24:28.413622",
     "exception": false,
     "start_time": "2023-01-16T20:24:28.408374",
     "status": "completed"
    },
    "tags": []
   },
   "source": [
    "## Rounds finished before time limit"
   ]
  },
  {
   "cell_type": "code",
   "execution_count": 22,
   "id": "73359c39",
   "metadata": {
    "collapsed": false,
    "execution": {
     "iopub.execute_input": "2023-01-16T20:24:28.425031Z",
     "iopub.status.busy": "2023-01-16T20:24:28.424747Z",
     "iopub.status.idle": "2023-01-16T20:24:28.498616Z",
     "shell.execute_reply": "2023-01-16T20:24:28.498348Z"
    },
    "papermill": {
     "duration": 0.080312,
     "end_time": "2023-01-16T20:24:28.499396",
     "exception": false,
     "start_time": "2023-01-16T20:24:28.419084",
     "status": "completed"
    },
    "tags": []
   },
   "outputs": [
    {
     "data": {
      "image/png": "[encoded data removed]",
      "text/plain": [
       "<Figure size 640x480 with 1 Axes>"
      ]
     },
     "metadata": {},
     "output_type": "display_data"
    }
   ],
   "source": [
    "query = \"\"\"\n",
    "select\n",
    "5 - abs(blueCaps - redCaps) losing_team_caps,\n",
    "count(1) as rounds_count,\n",
    "round(315 - (1.0*endTime - startTime)/1000,1) seconds_left_avg\n",
    "from round where blueCaps = 5 or redCaps = 5 group by losing_team_caps;\n",
    "\"\"\"\n",
    "result_finished_before_limit = pd.read_sql_query(query, con)\n",
    "sns.barplot(result_finished_before_limit, y=\"losing_team_caps\", x=\"rounds_count\", orient=\"h\").set(title=\"Rounds finished before time limit\")\n",
    "pass"
   ]
  },
  {
   "cell_type": "code",
   "execution_count": 23,
   "id": "40464a85",
   "metadata": {
    "collapsed": false,
    "execution": {
     "iopub.execute_input": "2023-01-16T20:24:28.513600Z",
     "iopub.status.busy": "2023-01-16T20:24:28.513378Z",
     "iopub.status.idle": "2023-01-16T20:24:28.517160Z",
     "shell.execute_reply": "2023-01-16T20:24:28.516898Z"
    },
    "papermill": {
     "duration": 0.011796,
     "end_time": "2023-01-16T20:24:28.518006",
     "exception": false,
     "start_time": "2023-01-16T20:24:28.506210",
     "status": "completed"
    },
    "tags": []
   },
   "outputs": [
    {
     "data": {
      "text/html": [
       "<div>\n",
       "<style scoped>\n",
       "    .dataframe tbody tr th:only-of-type {\n",
       "        vertical-align: middle;\n",
       "    }\n",
       "\n",
       "    .dataframe tbody tr th {\n",
       "        vertical-align: top;\n",
       "    }\n",
       "\n",
       "    .dataframe thead th {\n",
       "        text-align: right;\n",
       "    }\n",
       "</style>\n",
       "<table border=\"1\" class=\"dataframe\">\n",
       "  <thead>\n",
       "    <tr style=\"text-align: right;\">\n",
       "      <th></th>\n",
       "      <th>losing_team_caps</th>\n",
       "      <th>rounds_count</th>\n",
       "      <th>seconds_left_avg</th>\n",
       "    </tr>\n",
       "  </thead>\n",
       "  <tbody>\n",
       "    <tr>\n",
       "      <th>0</th>\n",
       "      <td>0</td>\n",
       "      <td>5</td>\n",
       "      <td>83.5</td>\n",
       "    </tr>\n",
       "    <tr>\n",
       "      <th>1</th>\n",
       "      <td>1</td>\n",
       "      <td>2</td>\n",
       "      <td>20.6</td>\n",
       "    </tr>\n",
       "    <tr>\n",
       "      <th>2</th>\n",
       "      <td>2</td>\n",
       "      <td>7</td>\n",
       "      <td>80.4</td>\n",
       "    </tr>\n",
       "    <tr>\n",
       "      <th>3</th>\n",
       "      <td>3</td>\n",
       "      <td>2</td>\n",
       "      <td>2.0</td>\n",
       "    </tr>\n",
       "    <tr>\n",
       "      <th>4</th>\n",
       "      <td>4</td>\n",
       "      <td>2</td>\n",
       "      <td>25.4</td>\n",
       "    </tr>\n",
       "  </tbody>\n",
       "</table>\n",
       "</div>"
      ],
      "text/plain": [
       "   losing_team_caps  rounds_count  seconds_left_avg\n",
       "0                 0             5              83.5\n",
       "1                 1             2              20.6\n",
       "2                 2             7              80.4\n",
       "3                 3             2               2.0\n",
       "4                 4             2              25.4"
      ]
     },
     "execution_count": 23,
     "metadata": {},
     "output_type": "execute_result"
    }
   ],
   "source": [
    "result_finished_before_limit"
   ]
  },
  {
   "cell_type": "markdown",
   "id": "8b80c40f",
   "metadata": {
    "collapsed": false,
    "papermill": {
     "duration": 0.008934,
     "end_time": "2023-01-16T20:24:28.536012",
     "exception": false,
     "start_time": "2023-01-16T20:24:28.527078",
     "status": "completed"
    },
    "tags": []
   },
   "source": [
    "## Weapons"
   ]
  },
  {
   "cell_type": "markdown",
   "id": "be640d10",
   "metadata": {
    "collapsed": false,
    "papermill": {
     "duration": 0.005419,
     "end_time": "2023-01-16T20:24:28.548128",
     "exception": false,
     "start_time": "2023-01-16T20:24:28.542709",
     "status": "completed"
    },
    "tags": []
   },
   "source": [
    "### Kills per weapon"
   ]
  },
  {
   "cell_type": "code",
   "execution_count": 24,
   "id": "a1674d05",
   "metadata": {
    "collapsed": false,
    "execution": {
     "iopub.execute_input": "2023-01-16T20:24:28.560234Z",
     "iopub.status.busy": "2023-01-16T20:24:28.559951Z",
     "iopub.status.idle": "2023-01-16T20:24:28.734371Z",
     "shell.execute_reply": "2023-01-16T20:24:28.734073Z"
    },
    "papermill": {
     "duration": 0.181157,
     "end_time": "2023-01-16T20:24:28.735124",
     "exception": false,
     "start_time": "2023-01-16T20:24:28.553967",
     "status": "completed"
    },
    "tags": []
   },
   "outputs": [
    {
     "data": {
      "image/png": "[encoded data removed]",
      "text/plain": [
       "<Figure size 640x480 with 1 Axes>"
      ]
     },
     "metadata": {},
     "output_type": "display_data"
    }
   ],
   "source": [
    "result8 = pd.read_sql_query(\n",
    "    \"select weaponName, round(100.0*count(1)/(select count(1) from event_kill ek),2) as percentage_of_all_kills from event_kill group by weaponName order by percentage_of_all_kills desc\", con)\n",
    "sns.barplot(result8,\n",
    "            y=\"weaponName\", x=\"percentage_of_all_kills\").set(title=\"Kills per weapon\")\n",
    "pass"
   ]
  },
  {
   "cell_type": "code",
   "execution_count": 25,
   "id": "bcb36758",
   "metadata": {
    "collapsed": false,
    "execution": {
     "iopub.execute_input": "2023-01-16T20:24:28.747626Z",
     "iopub.status.busy": "2023-01-16T20:24:28.747440Z",
     "iopub.status.idle": "2023-01-16T20:24:28.751617Z",
     "shell.execute_reply": "2023-01-16T20:24:28.751366Z"
    },
    "papermill": {
     "duration": 0.011113,
     "end_time": "2023-01-16T20:24:28.752274",
     "exception": false,
     "start_time": "2023-01-16T20:24:28.741161",
     "status": "completed"
    },
    "tags": []
   },
   "outputs": [
    {
     "data": {
      "text/html": [
       "<div>\n",
       "<style scoped>\n",
       "    .dataframe tbody tr th:only-of-type {\n",
       "        vertical-align: middle;\n",
       "    }\n",
       "\n",
       "    .dataframe tbody tr th {\n",
       "        vertical-align: top;\n",
       "    }\n",
       "\n",
       "    .dataframe thead th {\n",
       "        text-align: right;\n",
       "    }\n",
       "</style>\n",
       "<table border=\"1\" class=\"dataframe\">\n",
       "  <thead>\n",
       "    <tr style=\"text-align: right;\">\n",
       "      <th></th>\n",
       "      <th>weaponName</th>\n",
       "      <th>percentage_of_all_kills</th>\n",
       "    </tr>\n",
       "  </thead>\n",
       "  <tbody>\n",
       "    <tr>\n",
       "      <th>0</th>\n",
       "      <td>Kalashnikov</td>\n",
       "      <td>17.44</td>\n",
       "    </tr>\n",
       "    <tr>\n",
       "      <th>1</th>\n",
       "      <td>RGD5</td>\n",
       "      <td>16.63</td>\n",
       "    </tr>\n",
       "    <tr>\n",
       "      <th>2</th>\n",
       "      <td>MP5</td>\n",
       "      <td>13.35</td>\n",
       "    </tr>\n",
       "    <tr>\n",
       "      <th>3</th>\n",
       "      <td>SteyrAUG</td>\n",
       "      <td>10.64</td>\n",
       "    </tr>\n",
       "    <tr>\n",
       "      <th>4</th>\n",
       "      <td>Deagles</td>\n",
       "      <td>7.74</td>\n",
       "    </tr>\n",
       "    <tr>\n",
       "      <th>5</th>\n",
       "      <td>Knife</td>\n",
       "      <td>7.22</td>\n",
       "    </tr>\n",
       "    <tr>\n",
       "      <th>6</th>\n",
       "      <td>Spas12</td>\n",
       "      <td>6.50</td>\n",
       "    </tr>\n",
       "    <tr>\n",
       "      <th>7</th>\n",
       "      <td>RPG</td>\n",
       "      <td>6.18</td>\n",
       "    </tr>\n",
       "    <tr>\n",
       "      <th>8</th>\n",
       "      <td>Rheinmetall</td>\n",
       "      <td>4.80</td>\n",
       "    </tr>\n",
       "    <tr>\n",
       "      <th>9</th>\n",
       "      <td>M79</td>\n",
       "      <td>2.68</td>\n",
       "    </tr>\n",
       "    <tr>\n",
       "      <th>10</th>\n",
       "      <td>Barrett</td>\n",
       "      <td>2.01</td>\n",
       "    </tr>\n",
       "    <tr>\n",
       "      <th>11</th>\n",
       "      <td>RocketLauncher</td>\n",
       "      <td>1.73</td>\n",
       "    </tr>\n",
       "    <tr>\n",
       "      <th>12</th>\n",
       "      <td>N/A</td>\n",
       "      <td>1.44</td>\n",
       "    </tr>\n",
       "    <tr>\n",
       "      <th>13</th>\n",
       "      <td>Melee</td>\n",
       "      <td>0.65</td>\n",
       "    </tr>\n",
       "    <tr>\n",
       "      <th>14</th>\n",
       "      <td>Chainsaw</td>\n",
       "      <td>0.54</td>\n",
       "    </tr>\n",
       "    <tr>\n",
       "      <th>15</th>\n",
       "      <td>Dragunov</td>\n",
       "      <td>0.33</td>\n",
       "    </tr>\n",
       "    <tr>\n",
       "      <th>16</th>\n",
       "      <td>Minigun</td>\n",
       "      <td>0.05</td>\n",
       "    </tr>\n",
       "    <tr>\n",
       "      <th>17</th>\n",
       "      <td>Makarov</td>\n",
       "      <td>0.05</td>\n",
       "    </tr>\n",
       "  </tbody>\n",
       "</table>\n",
       "</div>"
      ],
      "text/plain": [
       "        weaponName  percentage_of_all_kills\n",
       "0      Kalashnikov                    17.44\n",
       "1             RGD5                    16.63\n",
       "2              MP5                    13.35\n",
       "3         SteyrAUG                    10.64\n",
       "4          Deagles                     7.74\n",
       "5            Knife                     7.22\n",
       "6           Spas12                     6.50\n",
       "7              RPG                     6.18\n",
       "8      Rheinmetall                     4.80\n",
       "9              M79                     2.68\n",
       "10         Barrett                     2.01\n",
       "11  RocketLauncher                     1.73\n",
       "12             N/A                     1.44\n",
       "13           Melee                     0.65\n",
       "14        Chainsaw                     0.54\n",
       "15        Dragunov                     0.33\n",
       "16         Minigun                     0.05\n",
       "17         Makarov                     0.05"
      ]
     },
     "execution_count": 25,
     "metadata": {},
     "output_type": "execute_result"
    }
   ],
   "source": [
    "result8"
   ]
  }
 ],
 "metadata": {
  "kernelspec": {
   "display_name": "Python 3",
   "language": "python",
   "name": "python3"
  },
  "language_info": {
   "codemirror_mode": {
    "name": "ipython",
    "version": 3
   },
   "file_extension": ".py",
   "mimetype": "text/x-python",
   "name": "python",
   "nbconvert_exporter": "python",
   "pygments_lexer": "ipython3",
   "version": "3.10.7"
  },
  "papermill": {
   "default_parameters": {},
   "duration": 2.789681,
   "end_time": "2023-01-16T20:24:28.971660",
   "environment_variables": {},
   "exception": null,
   "input_path": "stats_tournament.ipynb",
   "output_path": "stats_tournament.ipynb",
   "parameters": {},
   "start_time": "2023-01-16T20:24:26.181979",
   "version": "2.4.0"
  }
 },
 "nbformat": 4,
 "nbformat_minor": 5
}